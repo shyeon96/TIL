{
 "cells": [
  {
   "cell_type": "markdown",
   "metadata": {},
   "source": [
    "# 1일차 구간합"
   ]
  },
  {
   "cell_type": "code",
   "execution_count": 1,
   "metadata": {},
   "outputs": [
    {
     "ename": "ValueError",
     "evalue": "invalid literal for int() with base 10: ''",
     "output_type": "error",
     "traceback": [
      "\u001b[1;31m---------------------------------------------------------------------------\u001b[0m",
      "\u001b[1;31mValueError\u001b[0m                                Traceback (most recent call last)",
      "Cell \u001b[1;32mIn[1], line 1\u001b[0m\n\u001b[1;32m----> 1\u001b[0m T \u001b[38;5;241m=\u001b[39m \u001b[38;5;28;43mint\u001b[39;49m\u001b[43m(\u001b[49m\u001b[38;5;28;43minput\u001b[39;49m\u001b[43m(\u001b[49m\u001b[43m)\u001b[49m\u001b[43m)\u001b[49m\n\u001b[0;32m      2\u001b[0m \u001b[38;5;66;03m# 여러개의 테스트 케이스가 주어지므로, 각각을 처리합니다.\u001b[39;00m\n\u001b[0;32m      3\u001b[0m \u001b[38;5;28;01mfor\u001b[39;00m test_case \u001b[38;5;129;01min\u001b[39;00m \u001b[38;5;28mrange\u001b[39m(\u001b[38;5;241m1\u001b[39m, T \u001b[38;5;241m+\u001b[39m \u001b[38;5;241m1\u001b[39m):\n\u001b[0;32m      4\u001b[0m     \u001b[38;5;66;03m# ///////////////////////////////////////////////////////////////////////////////////\u001b[39;00m\n",
      "\u001b[1;31mValueError\u001b[0m: invalid literal for int() with base 10: ''"
     ]
    }
   ],
   "source": [
    "T = int(input())\n",
    "# 여러개의 테스트 케이스가 주어지므로, 각각을 처리합니다.\n",
    "for test_case in range(1, T + 1):\n",
    "    # ///////////////////////////////////////////////////////////////////////////////////\n",
    "    N, M = map(int, input().split())\n",
    "    test_list = list(map(int, input().split()))\n",
    "    sum_list = []\n",
    "    plus = 0\n",
    "    for a in range(N-M+1):\n",
    "        for b in test_list[a : a + M]:\n",
    "            plus += b\n",
    "        sum_list.append(plus)\n",
    "        plus = 0\n",
    "    # print(sum_list)\n",
    "    min_sum = sum_list[0]\n",
    "    max_sum = sum_list[0]\n",
    "    for c in sum_list:\n",
    "        if c <= min_sum:\n",
    "            min_sum = c\n",
    "        if c >= max_sum:\n",
    "            max_sum = c\n",
    "    print(f'#{test_case} {max_sum - min_sum}')"
   ]
  },
  {
   "cell_type": "markdown",
   "metadata": {},
   "source": [
    "# 1일차 Min Max"
   ]
  },
  {
   "cell_type": "code",
   "execution_count": null,
   "metadata": {},
   "outputs": [],
   "source": [
    "T = int(input())\n",
    "# 여러개의 테스트 케이스가 주어지므로, 각각을 처리합니다.\n",
    "for test_case in range(1, T + 1):\n",
    "    # ///////////////////////////////////////////////////////////////////////////////////\n",
    "    N = int(input())\n",
    "    test_list = list(map(int, input().split()))\n",
    "    max_num = test_list[0]\n",
    "    min_num = test_list[0]\n",
    "    for i in test_list:\n",
    "        if max_num <= i:\n",
    "            max_num = i\n",
    "        if min_num >= i:\n",
    "            min_num = i\n",
    " \n",
    "    print(f'#{test_case} {max_num - min_num}')"
   ]
  },
  {
   "cell_type": "code",
   "execution_count": 3,
   "metadata": {},
   "outputs": [
    {
     "name": "stdout",
     "output_type": "stream",
     "text": [
      "5050.0\n"
     ]
    }
   ],
   "source": [
    "add = a * (1 + a ) / 2\n",
    "a = 100    \n",
    "print(add)"
   ]
  },
  {
   "cell_type": "markdown",
   "metadata": {},
   "source": [
    "# 배열"
   ]
  },
  {
   "cell_type": "code",
   "execution_count": null,
   "metadata": {},
   "outputs": [],
   "source": [
    "N = int(input()) # 상자의 가로 길이\n",
    "box_list = list(map(int, input().split())) # 입력받는 상자의 높이\n",
    "max_drop = 0\n",
    "for i in range(N-1):  # 각 상자를 반복\n",
    "    cnt = 0         # 낙차 세는 변수\n",
    "    for j in range(i+1, N):\n",
    "        if box_list[i] > box_list[j]:\n",
    "            cnt += 1\n",
    "    if max_drop < cnt:\n",
    "        max_drop =cnt\n",
    "print(max_drop)"
   ]
  },
  {
   "cell_type": "markdown",
   "metadata": {},
   "source": [
    "# 버블 정렬"
   ]
  },
  {
   "cell_type": "code",
   "execution_count": null,
   "metadata": {},
   "outputs": [],
   "source": [
    "N = 6\n",
    "arr = [7,2,5,3,1,4]\n",
    "\n",
    "# for i : N-1 -> 1 정렬할 구간의 마지막 인덱스\n",
    "for i in range(N-1, 0, -1):\n",
    "# for j : 0 -> i-1,  j 비교할 두 원소중 왼쪽의 인덱스\n",
    "    for j in range(i):\n",
    "        if arr[j] > arr[j + 1]:  # 오름차순은 큰 수를 오른쪽으로\n",
    "            arr[j], arr[j + 1] = arr[j + 1], arr[j]\n",
    "\n",
    "print(arr)"
   ]
  }
 ],
 "metadata": {
  "kernelspec": {
   "display_name": "Python 3",
   "language": "python",
   "name": "python3"
  },
  "language_info": {
   "codemirror_mode": {
    "name": "ipython",
    "version": 3
   },
   "file_extension": ".py",
   "mimetype": "text/x-python",
   "name": "python",
   "nbconvert_exporter": "python",
   "pygments_lexer": "ipython3",
   "version": "3.9.13"
  }
 },
 "nbformat": 4,
 "nbformat_minor": 2
}
