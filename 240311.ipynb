{
 "cells": [
  {
   "cell_type": "markdown",
   "metadata": {},
   "source": [
    "# 240311\n",
    "\n",
    "## 유용한 단축키\n",
    "1. ctrl + l : 한줄 선택  \n",
    "2. ctrl + d : 동일한 키워드 연속 선택\n",
    "3. ctrl + alt + 화살표 : 멀티커서\n",
    "4. alt + 클릭 : 멀티커서\n",
    "5. alt + 화살표 위 아래 : 선택한 라인 이동\n",
    "6. alt + shift + 화살표 위 아래 : 선택한 라인 복사\n",
    "\n",
    "## 반응형 웹\n",
    "\n",
    "## Bootstrap Grid system\n",
    "- 웹 페이지의 레이아웃을 조정하는 데 사용되는 12개의 컬럼으로 구성된 시스템\n",
    "- 12개로 나누는 이유는 적당한 분할중 약수가 많아 구성이 간편하다\n",
    "\n",
    "### grid system 목적\n",
    "- 반응형 디자인을 지원해 웹 페이지를 모바일, 태블릿, 데스크탑 등 다양한 기기에서 적절하게 표시할 수 있도록 도움\n",
    "\n",
    "### 반응형 웹 디자인\n",
    "- 디바이스 종류나 화면 크기에 상관없이, 어디서든 일관된 레이아웃 및 사용자 경험을 제공하는 디자인 기술\n",
    "\n",
    "### grid system의 구조\n",
    "1. grid system 의 기본 요소\n",
    "    - container : 컬럼들을 담고 있는 공간\n",
    "    - column : 실제 컨텐츠를 포함하고 있는 부분\n",
    "    - gutter : 컬럼과 컬럼 사이의 여백 영역\n",
    "\n",
    "### Grid system breakpoints\n",
    "- 웹 페이지를 다양한 화면 크기에서 적절하게 배치하기 위한 분기점\n",
    "- 화면 너비에 따라 6개의 분기점 제공(xs, sm, lg, xl, xxl)"
   ]
  }
 ],
 "metadata": {
  "language_info": {
   "name": "python"
  }
 },
 "nbformat": 4,
 "nbformat_minor": 2
}
