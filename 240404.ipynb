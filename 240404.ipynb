{
 "cells": [
  {
   "cell_type": "markdown",
   "metadata": {},
   "source": [
    "# 240404\n",
    "\n",
    "## Article(N) - User(1)\n",
    "- Article 에서 외래키를 갖음"
   ]
  },
  {
   "cell_type": "code",
   "execution_count": null,
   "metadata": {},
   "outputs": [],
   "source": [
    "from django.conf import settings\n",
    "\n",
    "\n",
    "# Create your models here.\n",
    "class Article(models.Model):\n",
    "    user = models.ForeignKey(settings.AUTH_USER_MODEL, on_delete=models.CASCADE)\n",
    "    title = models.CharField(max_length=10)\n",
    "    content = models.TextField()\n",
    "    created_at = models.DateTimeField(auto_now_add=True)\n",
    "    updated_at = models.DateTimeField(auto_now=True)"
   ]
  },
  {
   "cell_type": "markdown",
   "metadata": {},
   "source": [
    "## User 모델을 참조하는 2가지 방법\n",
    "- get_user_model() \n",
    "    - 반환값이 객체(User Object)\n",
    "    - models.py 가 아닌 다른 모든위치에 사용\n",
    "- settings.AUTH_USER_MODEL\n",
    "    - 반환값은 문자열('accounts.User')\n",
    "    - models.py 에서 사용\n",
    "\n",
    "## 게시글 CREATE\n",
    "- 게시글 작성시 작성자 정보가 함께 저장될 수 있도록 save의 commit옵션 사용\n",
    "\n",
    "## 게시글 UPDATE\n",
    "- if request.user == article.user을 붙여주어서 수정을 요청하는 요청자와 작성자가 같을때만 작동하게 한다."
   ]
  }
 ],
 "metadata": {
  "language_info": {
   "name": "python"
  }
 },
 "nbformat": 4,
 "nbformat_minor": 2
}
