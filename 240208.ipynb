{
 "cells": [
  {
   "cell_type": "markdown",
   "metadata": {},
   "source": [
    "# 240208\n",
    "\n",
    "## DP\n",
    "> 동적 계획 알고리즘은 그리디 알고리즘과 같이 최적화 문제를 해결하는 알고리즘이다.  \n",
    "> 먼저 입력 크기가 작은 부분 문제들을 모두 해결한 후에 그 해들을 이용하여 보다 큰 크기의 부분 문제들을 해결하여 최종적으로 원래 주어진 입력의 문제를 해결하는 알고리즘이다.  \n",
    "\n",
    "### DP의 구현 방식\n",
    "> recursive 방식  \n",
    "> iterative 방식  \n",
    "- memorization을 재귀적 구조에 사용하는 것보다 반복적 구조로 DP를 구현한 것이 성능 면에서 보다 효율적이다\n",
    "- 재귀적 구조는 내부에 시스템 호출 스택을 사용하는 오버헤드가 발생하기 때문이다."
   ]
  },
  {
   "cell_type": "code",
   "execution_count": null,
   "metadata": {},
   "outputs": [],
   "source": [
    "def fibo2(n):\n",
    "    f = [0] * (n+1)\n",
    "    f[0] = 0\n",
    "    f[1] = 1\n",
    "    for i in range(2, n+1):\n",
    "        f[i] = f[i-1] + f[i-2]\n",
    "    \n",
    "    return f[n]"
   ]
  },
  {
   "cell_type": "markdown",
   "metadata": {},
   "source": [
    "## DFS(깊이우선탐색)\n",
    "> 비선형구조인 그래프 구조는 그래프로 표현된 모든 자료를 빠짐없이 검색하는 것이 중요함  \n",
    "> 두 가지 방법\n",
    "    - 깊이 우선 탐색\n",
    "    - 너비 우선 탐색\n",
    "\n",
    "### 깊이우선탐색\n",
    "> 시작 정점의 한 방향으로 갈 수 있는 경로가 있는 곳까지 깊이탐색해 가다가 더 이상 갈 곳이 없게 되면, 가장 마지막에 만났던 갈림길 간선이 있는 정점으로 되돌아와서 다른 방향의 정점으로 탐색을 계속 반복하여 결국 모든 정점을 방문하는 순회방법  \n",
    "> 가장 마지막에 만났던 갈림길부터 다시 깊이 우선탐색을 반복해야 하므로 후입선출 구조의 스택사용  "
   ]
  },
  {
   "cell_type": "code",
   "execution_count": 1,
   "metadata": {},
   "outputs": [
    {
     "name": "stdout",
     "output_type": "stream",
     "text": [
      "1\n"
     ]
    },
    {
     "ename": "NameError",
     "evalue": "name 'adjl' is not defined",
     "output_type": "error",
     "traceback": [
      "\u001b[1;31m---------------------------------------------------------------------------\u001b[0m",
      "\u001b[1;31mNameError\u001b[0m                                 Traceback (most recent call last)",
      "Cell \u001b[1;32mIn[1], line 40\u001b[0m\n\u001b[0;32m     25\u001b[0m     \u001b[38;5;28;01mreturn\u001b[39;00m \n\u001b[0;32m     28\u001b[0m \u001b[38;5;66;03m# V, E = map(int, input().split())\u001b[39;00m\n\u001b[0;32m     29\u001b[0m \u001b[38;5;66;03m# arr = list(map(int, input().split()))\u001b[39;00m\n\u001b[0;32m     30\u001b[0m \n\u001b[1;32m   (...)\u001b[0m\n\u001b[0;32m     37\u001b[0m \n\u001b[0;32m     38\u001b[0m \u001b[38;5;66;03m# print(adjl)\u001b[39;00m\n\u001b[1;32m---> 40\u001b[0m \u001b[43mdfs\u001b[49m\u001b[43m(\u001b[49m\u001b[38;5;241;43m1\u001b[39;49m\u001b[43m,\u001b[49m\u001b[38;5;241;43m7\u001b[39;49m\u001b[43m)\u001b[49m\n",
      "Cell \u001b[1;32mIn[1], line 13\u001b[0m, in \u001b[0;36mdfs\u001b[1;34m(i, V)\u001b[0m\n\u001b[0;32m     10\u001b[0m \u001b[38;5;28mprint\u001b[39m(i)\n\u001b[0;32m     11\u001b[0m \u001b[38;5;28;01mwhile\u001b[39;00m \u001b[38;5;28;01mTrue\u001b[39;00m: \u001b[38;5;66;03m# 탐색\u001b[39;00m\n\u001b[0;32m     12\u001b[0m     \u001b[38;5;66;03m# 현재 방문한 정점에 인접하고 방문안한 정점w가 있으면\u001b[39;00m\n\u001b[1;32m---> 13\u001b[0m     \u001b[38;5;28;01mfor\u001b[39;00m w \u001b[38;5;129;01min\u001b[39;00m \u001b[43madjl\u001b[49m[i]:\n\u001b[0;32m     14\u001b[0m         \u001b[38;5;28;01mif\u001b[39;00m visited[w] \u001b[38;5;241m==\u001b[39m \u001b[38;5;241m0\u001b[39m:\n\u001b[0;32m     15\u001b[0m             st\u001b[38;5;241m.\u001b[39mappend(i)    \u001b[38;5;66;03m# push(i), i를 지나서\u001b[39;00m\n",
      "\u001b[1;31mNameError\u001b[0m: name 'adjl' is not defined"
     ]
    }
   ],
   "source": [
    "'''\n",
    "V, E = 7 8\n",
    "arr = 1 2 1 3 2 4 2 5 4 6 5 6 6 7 3 7\n",
    "'''\n",
    "def dfs(i,V): # 시작 i, 마지막 V\n",
    "    # visited, stack 생성 및 초기화\n",
    "    visited = [0]*(V+1)\n",
    "    st = []\n",
    "    visited[i] = 1  #시작점 방문\n",
    "    print(i)\n",
    "    while True: # 탐색\n",
    "        # 현재 방문한 정점에 인접하고 방문안한 정점w가 있으면\n",
    "        for w in adjl[i]:\n",
    "            if visited[w] == 0:\n",
    "                st.append(i)    # push(i), i를 지나서\n",
    "                i = w           # w에 방문\n",
    "                visited[i] = 1  # 방문해서 할일\n",
    "                print(i)\n",
    "                break\n",
    "        else:                   # i에 남은 인접 정점이 없으면\n",
    "            if st: # 스택이 비어있지 않으면(지나온 정점이 남아 있으면)\n",
    "                i = st.pop()\n",
    "            else:   # 스택이 비어있으면(출발점에서 남은 정점이 없으면)\n",
    "                break\n",
    "    return \n",
    "\n",
    "\n",
    "V, E = map(int, input().split())\n",
    "arr = list(map(int, input().split()))\n",
    "\n",
    "# 인접리스트\n",
    "adjl = [[] for _ in range(V+1)] # adjl[i] 행에 인접인 정점번호\n",
    "for i in range(E):\n",
    "    n1, n2 = arr[i*2], arr[i*2+1]\n",
    "    adjl[n1].append(n2)\n",
    "    adjl[n2].append(n1) # 방향이 없는 경우\n",
    "\n",
    "print(adjl)\n",
    "\n",
    "dfs(1,7)"
   ]
  }
 ],
 "metadata": {
  "kernelspec": {
   "display_name": "Python 3",
   "language": "python",
   "name": "python3"
  },
  "language_info": {
   "codemirror_mode": {
    "name": "ipython",
    "version": 3
   },
   "file_extension": ".py",
   "mimetype": "text/x-python",
   "name": "python",
   "nbconvert_exporter": "python",
   "pygments_lexer": "ipython3",
   "version": "3.9.13"
  }
 },
 "nbformat": 4,
 "nbformat_minor": 2
}
