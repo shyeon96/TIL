{
 "cells": [
  {
   "cell_type": "markdown",
   "metadata": {},
   "source": [
    "# ECMAScript\n",
    "> ECMA이 정의하고 있는 표준화된 스트립트 프로그래밍 언어 명세\n",
    "> JavaScript는 ECMAScript 표준을 따라 구현된 언어로 사용됨\n",
    "\n",
    "# DOM\n",
    "- 웹 페이지를 구조화된 객체로 제공하여 프로그래밍 언어가 페이지 구조에 접근할 수 있는 방법을 제공\n",
    "- DOM 특징\n",
    "  - 모두 document객체의 하위 객체로 구성됨\n",
    "\n",
    "# DOM tree\n",
    "- 브라우저는 HTML문서를 해석하여 DOM tree라는 객체 트리로 구조화\n",
    "\n",
    "# DOM 선택\n",
    "\n",
    "## 선택 메서드\n",
    "- document.querySelector() : 요소 한개 선택\n",
    "- document.querySelectorAll() : 요 소 여러 개 선택\n",
    "\n",
    "# DOM 조작\n",
    "1. 속성 조작\n",
    "  - 클래스 속성 조작\n",
    "    - element.classList\n",
    "      - add()\n",
    "      - remove()\n",
    "      - toggle()\n",
    "  - 일반 속성 조작\n",
    "    - getAttibute()\n",
    "    - setAttribute()\n",
    "    - removeAttribute()\n",
    "2. HTML 콘텐츠 조작\n",
    "  - textContent\n",
    "3. DOM 요소 조작\n",
    "  - document.createElement(tagName)\n",
    "  - Node.appendChild()\n",
    "  - Node.removeChild()\n",
    "4. style 조작"
   ]
  }
 ],
 "metadata": {
  "language_info": {
   "name": "python"
  }
 },
 "nbformat": 4,
 "nbformat_minor": 2
}
