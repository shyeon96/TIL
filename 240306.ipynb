{
 "cells": [
  {
   "cell_type": "markdown",
   "metadata": {},
   "source": [
    "# 240306\n",
    "\n",
    "# HTML & CSS\n",
    "\n",
    "## Web site\n",
    "> 인터넷에서 여러 개의 Web page가 모인 것. 사용자들에게 서비스를 제공하는 공간\n",
    "\n",
    "## Web page\n",
    "> HTML, CSS등의 웹 기술을 이용하여 만들어진 Web site를 구성하는 하나의 요소  \n",
    "- 웹 페이지의 구성요소\n",
    "    - 구조  (HTML)\n",
    "    - 스타일링 (CSS)\n",
    "    - 행동 (Javascript)\n",
    "\n",
    "## HTML\n",
    "> HyperText Markup Language  \n",
    "- 웹 페이지의 의미와 구조를 정의하는 언어\n",
    "- Hypertext\n",
    "    - 웹 페이지를 다른 페이지로 연결하는 링크\n",
    "    - 참조를 통해 사용자가 한 문서에서 다른 문서로 즉시 접근할 수 있는 텍스트\n",
    "    - 비 선형적으로 이루어진 텍스트\n",
    "- Markup Language\n",
    "    - 태그등을 이용하여 문서나 데이터의 구조를 명시하는 언어\n",
    "    - ex) HTML, Markdown\n",
    "\n",
    "- <!DOCTYPE html>\n",
    "    - 해당 문서가 html로 문서라는 것을 나타냄\n",
    "- <html></html>\n",
    "    - 전체 페이지의 콘텐츠를 포함\n",
    "- <title></title>\n",
    "    - 브라우저 탭 및 즐겨찾기 시 표시되는 제목으로 사용\n",
    "\n",
    "### HTML Element\n",
    "- 하나의 요소는 여는 태그와 닫는 태그 그리고 그 안의 내용으로 구성됨\n",
    "- 닫는 태그는 태그 이름앞에 슬래시가 포함되며 닫는 태그가 없는 태그도 존재\n",
    "\n",
    "### HTML Attributes\n",
    "- 규칙\n",
    "    - 속성은 요소 이름과 속성 사이에 공백이 있어야 함\n",
    "    - 하나 이상의 속성들이 있는 경우엔 속성 사이에 공백으로 구분함\n",
    "    - 속성 값은 열고 닫는 따옴표로 감싸야 함\n",
    "- 목적\n",
    "    - 나타내고 싶지 않지만 추가적인 기능, 내용을 담고 싶을 때 사용\n",
    "    - CSS에서 해당 요소를 선택하기 위한 값으로 활용됨\n",
    "\n",
    "### <h1>heading</h1>\n",
    "- 문서의 최상의 제목이라는 의미를 부여하는 것"
   ]
  },
  {
   "cell_type": "code",
   "execution_count": null,
   "metadata": {
    "vscode": {
     "languageId": "html"
    }
   },
   "outputs": [],
   "source": [
    "# HTML 의 구조\n",
    "<!DOCTYPE html>\n",
    "<html lang=\"en\">\n",
    "<head>\n",
    "    <meta charset=\"UTF-8\">\n",
    "    <title>My page</title>\n",
    "</head>\n",
    "<body>\n",
    "    <p>This is my page</p>\n",
    "    <!-- Anchor (하이퍼 텍스트) -->\n",
    "    <a href=\"https://www.google.com\">google</a>\n",
    "    <img src=\"\" alt=\"\">\n",
    "</body>\n",
    "</html>"
   ]
  },
  {
   "cell_type": "markdown",
   "metadata": {},
   "source": [
    "## CSS\n",
    "> Cascading Style Sheet\n",
    "- 웹 페이지의 디자인과 레이아웃을 구성하는 언어\n",
    "\n",
    "### CSS 구분"
   ]
  },
  {
   "cell_type": "code",
   "execution_count": null,
   "metadata": {
    "vscode": {
     "languageId": "html"
    }
   },
   "outputs": [],
   "source": [
    "h1(선택자) {\n",
    "    color: red; (선언)\n",
    "    font-size(속성): 30px(값);\n",
    "}"
   ]
  },
  {
   "cell_type": "markdown",
   "metadata": {},
   "source": [
    "### CSS 적용 방법\n",
    "1. 인라인 스타일\n",
    "2. 내부 스타일\n",
    "3. 외부 스타일\n",
    "- 주로 2,3번 방법이 사용되지만 사이즈가 커지면 3번 방법이 추천된다. (재사용성이 좋음)"
   ]
  },
  {
   "cell_type": "code",
   "execution_count": null,
   "metadata": {
    "vscode": {
     "languageId": "html"
    }
   },
   "outputs": [],
   "source": [
    "<!DOCTYPE html>\n",
    "<html lang=\"en\">\n",
    "\n",
    "<head>\n",
    "  <meta charset=\"UTF-8\">\n",
    "  <meta name=\"viewport\" content=\"width=device-width, initial-scale=1.0\">\n",
    "  <title>Document</title>\n",
    "  <link rel=\"stylesheet\" href=\"style.css\">\n",
    "  <style>\n",
    "    h2 {\n",
    "      color: red;\n",
    "    }\n",
    "  </style>\n",
    "</head>\n",
    "\n",
    "<body>\n",
    "  <h1 style=\"color: blue;background-color: yellow;\">Inline Style</h1>\n",
    "  <h2>Internal Style</h2>\n",
    "  <h3>External Style</h3>\n",
    "</body>\n",
    "\n",
    "</html>"
   ]
  },
  {
   "cell_type": "markdown",
   "metadata": {},
   "source": [
    "### CSS Selectors\n",
    "> HTML 요소를 선택하여 스타일을 적용할 수 있도록 하는 선택자\n",
    "- 기본 선택자\n",
    "    - 전체(\"*\") 선택자\n",
    "    - 요소(tag) 선택자\n",
    "    - . :클래스(class) 선택자\n",
    "        - 주어진 클래스 속성을 가진 모든 요소를 선택\n",
    "    - '#' :아이디(id) 선택자\n",
    "        - 주어진 아이디 속성을 가진 요소 선택\n",
    "        - 문서에는 주어진 아이디를 가진 요소가 하나만 있어야 함\n",
    "    - 속성 선택자 등\n",
    "- 자손 결합자 (\" \")\n",
    "    - 첫 번째 요소의 자손 요소들을 선택\n",
    "\n",
    "## 명시도\n",
    "> 결과적으로 요소에 적용할 CSS 선언을 결정하기 위한 알고리즘\n",
    "- 명시도가 높은 순\n",
    "    1. Importance\n",
    "    2. Inline 스타일\n",
    "    3. 선택자\n",
    "        - id 선택자 > class 선택자 > 요소 선택자\n",
    "    4. 소스 코드 선언 순서\n",
    "\n",
    "### 속성은 되도록 'class'만 사용할 것\n",
    "-  id, 요소 선택자 등 여러 선택자들과 함께 사용할 경우 우선순위 규칙에 따라 예기치 못한 스타일 규칠기 적용되어 전반적인 유지보수가 어려줘지기 때문\n",
    "- 문서에서 단 한번 유일하게 적용될 스타일에 경우에만 id선택자 사용을 고려\n",
    "\n",
    "## CSS상속\n",
    "- 상속 되는 속성\n",
    "    - Text 관련 요소(font, color, text-align) 등\n",
    "- 상속되지 않는 속성\n",
    "    - position 관련 요소\n",
    "    - box model 관련 요소"
   ]
  }
 ],
 "metadata": {
  "kernelspec": {
   "display_name": "Python 3",
   "language": "python",
   "name": "python3"
  },
  "language_info": {
   "codemirror_mode": {
    "name": "ipython",
    "version": 3
   },
   "file_extension": ".py",
   "mimetype": "text/x-python",
   "name": "python",
   "nbconvert_exporter": "python",
   "pygments_lexer": "ipython3",
   "version": "3.9.13"
  }
 },
 "nbformat": 4,
 "nbformat_minor": 2
}
