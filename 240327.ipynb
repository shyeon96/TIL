{
 "cells": [
  {
   "cell_type": "code",
   "execution_count": null,
   "metadata": {},
   "outputs": [],
   "source": []
  },
  {
   "cell_type": "markdown",
   "metadata": {},
   "source": [
    "# 240327\n",
    "\n",
    "## Django Form\n",
    "- HTML form\n",
    "    - 지금까지 사용자로부터 데이터를 받기 위해 활용한 방법\n",
    "    - 비정상적 혹은 악의적인 요청을 필터링 할 수 없음\n",
    "    - 유효한 데이터인지에 대한 확인이 필요\n",
    "\n",
    "### 유효성 검사\n",
    "    - 수집한 데이터가 정확하고 유효한지 확인하는 과정\n",
    "\n",
    "### 유효성 검사 구현\n",
    "    - 유효성 검사를 구현하기 위해 입력 값, 형식, 중복, 범위, 보안 등 많은 것들을 고려해야 함\n",
    "    - 이런 과정과 기능을 직접 개발하는 것이 아닌 Django가 제공하는 Form을 사용\n",
    "\n",
    "## Form class\n",
    "\n",
    "## Widgets\n",
    "- HTML 'input' element의 '표현'을 담당\n",
    "- Widget은 단순히 input 요소의 속성 및 출력되는 부분을 변경하는 것\n",
    "\n",
    "### Form\n",
    "- 사용자 입력 데이터를 DB에 저장하지 않을 때 (로그인)\n",
    "\n",
    "### ModelForm\n",
    "- 사용자 입력 데이터를 DB에 저장해야 할 때 (게시글 작성, 회원가입)\n",
    "\n",
    "### Meta class\n",
    "- ModelForm의 정보를 작성하는 곳"
   ]
  }
 ],
 "metadata": {
  "language_info": {
   "name": "python"
  }
 },
 "nbformat": 4,
 "nbformat_minor": 2
}
