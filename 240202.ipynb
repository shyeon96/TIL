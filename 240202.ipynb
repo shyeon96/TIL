{
 "cells": [
  {
   "cell_type": "markdown",
   "metadata": {},
   "source": [
    "# 240202 문제풀이"
   ]
  },
  {
   "cell_type": "markdown",
   "metadata": {},
   "source": [
    "## 6485. 삼성시의 버스노선"
   ]
  },
  {
   "cell_type": "code",
   "execution_count": null,
   "metadata": {},
   "outputs": [],
   "source": [
    "T = int(input())\n",
    "for tc in range(1, T+1):\n",
    "    # 입력\n",
    "    N = int(input())\n",
    "    bus_list = [list(map(int, input().split())) for _ in range(N)]\n",
    "    P = int(input())\n",
    "    station_list = [int(input()) for _ in range(P)]\n",
    "\n",
    "    station = [0] * 5001    # 정류장별 정차횟수 리스트\n",
    "    result = []             # 결과값 저장 리스트\n",
    "    for a in bus_list:      # 버스가 다니는 정류장마다 카운트 해줌\n",
    "        for b in range(a[0],a[1]+1):\n",
    "            station[b] += 1\n",
    "    for c in station_list:\n",
    "        result += [station[c]]\n",
    "    print(f'#{tc}', *result)\n",
    "    # N = int(input())\n",
    "    # counts = [0] * 5001\n",
    "    # for i in range(N):\n",
    "    #     A, B = map(int, input().split())\n",
    "    #     for j in range(A, B+1):\n",
    "    #         counts[j] += 1\n",
    "    # P = int(input())\n",
    "    # busstop = [int(input()) for _ in range(P)]\n",
    "    # print(f'#{tc}', end= ' ')\n",
    "    # for i in busstop:\n",
    "    #     print(counts[i], end= ' ')\n",
    "    # print()"
   ]
  },
  {
   "cell_type": "markdown",
   "metadata": {},
   "source": [
    "## 1979. 어디에 단어가 들어갈 수 있을까?"
   ]
  },
  {
   "cell_type": "code",
   "execution_count": null,
   "metadata": {},
   "outputs": [],
   "source": [
    "T = int(input())\n",
    "for tc in range(1, T+1):\n",
    "    N, K = map(int,input().split())\n",
    "    arr = [list(map(int, input().split())) for _ in range(N)]\n",
    "    result = 0\n",
    "    cnt = 0\n",
    "    wrong = 0\n",
    "    for a in range(N):\n",
    "        for b in range(N):\n",
    "            if arr[a][b] == 1:\n",
    "                cnt += 1\n",
    "            elif arr[a][b] == 0:\n",
    "                cnt = 0\n",
    "            if cnt == K:\n",
    "                result += 1\n",
    "            elif cnt == K+1:\n",
    "                wrong = 1\n",
    "            result -= wrong\n",
    "            wrong = 0\n",
    "        cnt = 0\n",
    "\n",
    "\n",
    "    for a in range(N):\n",
    "        for b in range(N):\n",
    "            if arr[b][a] == 1:\n",
    "                cnt += 1\n",
    "            elif arr[b][a] == 0:\n",
    "                cnt = 0\n",
    "            if cnt == K:\n",
    "                result += 1\n",
    "            elif cnt == K+1:\n",
    "                wrong = 1\n",
    "            result -= wrong\n",
    "            wrong = 0\n",
    "        cnt = 0\n",
    "\n",
    "    print (f'#{tc} {result}')"
   ]
  },
  {
   "cell_type": "markdown",
   "metadata": {},
   "source": [
    "## 5789. 현주의 상자 바꾸기"
   ]
  },
  {
   "cell_type": "code",
   "execution_count": null,
   "metadata": {},
   "outputs": [],
   "source": [
    "T = int(input())\n",
    "for tc in range(1, T+1):\n",
    "    N, Q = map(int, input().split())\n",
    "    box = [0] * N\n",
    "    for i in range(1, Q+1):     # 1부터 Q까지의 i에 대해서\n",
    "        L, R = map(int, input().split())    # i 번째 작업에서 변경할 상자 범위\n",
    "        for a in range(L, R+1):\n",
    "            box[a-1] = i\n",
    "\n",
    "    print(f'#{tc}', *box)"
   ]
  },
  {
   "cell_type": "markdown",
   "metadata": {},
   "source": [
    "## 1945. 간단한 소인수분해"
   ]
  },
  {
   "cell_type": "code",
   "execution_count": null,
   "metadata": {},
   "outputs": [],
   "source": [
    "T = int(input())\n",
    "for tc in range(1, T+1):\n",
    "    result = [0] * 5\n",
    "    N = int(input())\n",
    "    while N % 2 == 0:\n",
    "        N /= 2\n",
    "        result[0] += 1\n",
    "\n",
    "    while N % 3 == 0:\n",
    "        N /= 3\n",
    "        result[1] += 1\n",
    "\n",
    "    while N % 5 == 0:\n",
    "        N /= 5\n",
    "        result[2] += 1\n",
    "\n",
    "    while N % 7 == 0:\n",
    "        N /= 7\n",
    "        result[3] += 1\n",
    "\n",
    "    while N % 11 == 0:\n",
    "        N /= 11\n",
    "        result[4] += 1\n",
    "\n",
    "    print(f'#{tc}', *result)"
   ]
  },
  {
   "cell_type": "markdown",
   "metadata": {},
   "source": [
    "## 배열회전"
   ]
  },
  {
   "cell_type": "code",
   "execution_count": null,
   "metadata": {},
   "outputs": [],
   "source": [
    "T = int(input())\n",
    "for tc in range(1, T+1):\n",
    "    N = int(input())\n",
    "    mat = [list(map(str, input().split())) for _ in range(N)]\n",
    "    def mat_rot(mat):\n",
    "        rotate_mat = [list(mat[i][j] for i in range(N-1,-1,-1)) for j in range(N)]\n",
    "        return rotate_mat\n",
    "\n",
    "    def add(rotate_mat):\n",
    "        add_mat = [0] * N\n",
    "        for a in range(N):\n",
    "            add_mat[a] = ''.join(rotate_mat[a])\n",
    "        return add_mat\n",
    "\n",
    "    result1 = add(mat_rot(mat))\n",
    "    result2 = add(mat_rot(mat_rot(mat)))\n",
    "    result3 = add(mat_rot(mat_rot(mat_rot(mat))))\n",
    "    print(f'#{tc}')\n",
    "    for i in range(N):\n",
    "        print(result1[i], result2[i], result3[i])"
   ]
  }
 ],
 "metadata": {
  "language_info": {
   "name": "python"
  }
 },
 "nbformat": 4,
 "nbformat_minor": 2
}
