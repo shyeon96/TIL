{
 "cells": [
  {
   "cell_type": "markdown",
   "metadata": {},
   "source": [
    "# 240408\n",
    "\n",
    "## M:N 관계모델\n",
    "\n",
    "### N:1 모델의 한계\n",
    "- 1번 환자가 두 의사에게 진료를 받고자 한다면 환자 테이블에 1번환자 데이터가 중복으로 입력될 수 밖에 없음\n",
    "\n",
    "### 중계모델\n",
    "-"
   ]
  }
 ],
 "metadata": {
  "language_info": {
   "name": "python"
  }
 },
 "nbformat": 4,
 "nbformat_minor": 2
}
