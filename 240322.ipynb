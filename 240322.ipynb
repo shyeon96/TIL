{
 "cells": [
  {
   "cell_type": "markdown",
   "metadata": {},
   "source": [
    "# 240322\n",
    "\n",
    "## 그래프\n",
    "- DFS + backtracking\n",
    "- BFS\n",
    "- MST\n",
    "- Dijkstra\n",
    "\n",
    "## 알고리즘 문제 푸는 순서\n",
    "1. 자료구조 선택\n",
    "    - 그래프 (인접 행렬, 인접 리스트)\n",
    "2. 알고리즘\n",
    "    - BFS\n",
    "        - 맞는지 검증"
   ]
  }
 ],
 "metadata": {
  "language_info": {
   "name": "python"
  }
 },
 "nbformat": 4,
 "nbformat_minor": 2
}
