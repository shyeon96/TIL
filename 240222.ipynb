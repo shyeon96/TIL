{
 "cells": [
  {
   "cell_type": "markdown",
   "metadata": {},
   "source": [
    "# 240222\n",
    "\n",
    "## Start\n",
    "\n",
    "- SW 문제해결\n",
    "- 복잡도 분석\n",
    "- 표준 입출력 방법\n",
    "- 비트 연산\n",
    "- 진수\n",
    "- 실수\n",
    "\n",
    "### SW 문제해결\n",
    "- 기업 코테 합격이 목표\n",
    "- 다양한 문제를 풀어 숙련도를 높이는게 관건\n",
    "\n",
    "### 복잡도 분석\n",
    "- 알고리즘 : 유한한 단계를 통해 문제를 해결하기 위한 절차나 방법\n",
    "\n",
    "- 알고리즘의 효율\n",
    "    - 공간적 효율성과 시간적 효율성\n",
    "    - 공간적 효율성은 연산량 대비 얼마나 적은 메모리 공간을 요하는 가를 말한다 (공간 복잡도)\n",
    "    - 시간적 효율성은 연산량 대비 얼마나 적은 시간을 요하는 가를 말한다 (시간 복잡도)\n",
    "    - 효율성을 뒤집어 표현하면 복잡도가 된다. 복잡도가 높을수록 효율성은 저하된다\n",
    "    - 공간 복잡도(변수, 리스트) = 메모리를 쓴다\n",
    "    - 시간 복잡도 = 반복문을 얼마나 쓰냐\n",
    "\n",
    "### 표준 입출력\n",
    "- import.sys 사용법"
   ]
  },
  {
   "cell_type": "code",
   "execution_count": null,
   "metadata": {},
   "outputs": [],
   "source": [
    "import sys\n",
    "sys.stdin = open('input.txt', 'r')\n",
    "sys.stdout = open('output.txt', 'w')\n",
    "\n",
    "a, b = map(int, input().split())\n",
    "print(a + b)\n",
    "print(a * b)"
   ]
  },
  {
   "cell_type": "markdown",
   "metadata": {},
   "source": [
    "### 진수\n",
    "- 2진수, 8진수, 10진수, 16진수\n",
    "    - 2진수 : 컴퓨터가 사용하는 진수\n",
    "    - 10진수 : 사람이 사용하는 진수\n",
    "    - 16진수 : 2진수를 더 가독성 있게 사용\n",
    "\n",
    "- 왜 16진수를 사용할까?\n",
    "    - 2진수를 16진수로 변환시 연산속도가 매우 빠름\n",
    "\n",
    "### 진법 변환\n",
    "- 10진수 -> 타 진수로 변환\n",
    "    - 원하는 타진버브이 수로 나눈 뒤 나머지를 거꾸로 읽는다"
   ]
  },
  {
   "cell_type": "code",
   "execution_count": 1,
   "metadata": {},
   "outputs": [
    {
     "name": "stdout",
     "output_type": "stream",
     "text": [
      "[1, 0, 0, 1, 0, 1, 0, 1]\n"
     ]
    }
   ],
   "source": [
    "# 10진수를 2진수로\n",
    "\n",
    "tar = 149\n",
    "result = []\n",
    "\n",
    "while tar != 0:\n",
    "    result.append(tar%2)\n",
    "    tar //= 2\n",
    "\n",
    "result.reverse()\n",
    "print(result)\n"
   ]
  },
  {
   "cell_type": "markdown",
   "metadata": {},
   "source": [
    "- 16진수 <=> 2진수 변환\n",
    "    - 2, 10, 16 진수표 암기하는 것을 권장"
   ]
  }
 ],
 "metadata": {
  "kernelspec": {
   "display_name": "Python 3",
   "language": "python",
   "name": "python3"
  },
  "language_info": {
   "codemirror_mode": {
    "name": "ipython",
    "version": 3
   },
   "file_extension": ".py",
   "mimetype": "text/x-python",
   "name": "python",
   "nbconvert_exporter": "python",
   "pygments_lexer": "ipython3",
   "version": "3.9.13"
  }
 },
 "nbformat": 4,
 "nbformat_minor": 2
}
