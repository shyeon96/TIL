{
 "cells": [
  {
   "cell_type": "markdown",
   "metadata": {},
   "source": [
    "# 240227\n",
    "\n",
    "## 완전검색\n",
    "\n",
    "### 반복과 재귀\n",
    "- 반복과 재귀는 유사한 작업을 수행할 수 있다\n",
    "- 반복은 코드를 n번 반복\n",
    "- 재귀는 주어진 문제의 해를 구하기 위해 동일하면서 더 작은 문제의 해를 이용하는 방법\n",
    "    - 재귀호출은 n중 반복문을 만들어낼 수 있다\n",
    "\n",
    "### 함수의 특징\n",
    "- 함수 호출시에는 값만 복사가 된다\n",
    "- 함수가 끝나면 해당 함수를 호출했던 곳으로 돌아온다\n",
    "\n",
    "### 기저조건\n",
    "- 재귀호출의 시작은 무한반복을 막는 것부터 시작한다\n"
   ]
  },
  {
   "cell_type": "code",
   "execution_count": null,
   "metadata": {},
   "outputs": [],
   "source": [
    "# 기저조건이 붙은 재귀함수\n",
    "def f(n):\n",
    "    if n == 6:\n",
    "        return\n",
    "    print(n, end=' ')\n",
    "    f(n + 1)\n",
    "    print(n, end=' ')\n",
    "\n",
    "f(0)"
   ]
  },
  {
   "cell_type": "markdown",
   "metadata": {},
   "source": [
    "### 순열\n",
    "\n",
    "#### 중복을 취급하는 순열\n",
    "- 서로 다른 N개에서 R개를 중복을 허용하고 순서를 고려하여 나열하는 것\n",
    "- 재귀호출을 할 때마다, 이동 경로를 흔적으로 구현\n"
   ]
  },
  {
   "cell_type": "code",
   "execution_count": null,
   "metadata": {},
   "outputs": [],
   "source": [
    "path = []\n",
    "\n",
    "def f(n):\n",
    "    if n == 5:\n",
    "        print(*path)\n",
    "        return\n",
    "    for i in range(1, 5):\n",
    "        path.append(i)\n",
    "        f(n + 1)\n",
    "        path.pop()\n",
    "\n",
    "f(0)"
   ]
  },
  {
   "cell_type": "markdown",
   "metadata": {},
   "source": [
    "### 중복이 없는 순열 구현\n",
    "- 위 코드에서 중복을 제거하는 코드를 추가하면 순열 코드가 된다\n",
    "- 전역 리스트(visited)를 사용하면 이미 선택했던 숫자인지 아닌지 구분할 수 있다\n",
    "- 재귀 호출을 하기 직전 이미 선택했던 숫자인지 아닌지 검사하는 코드가 필요하다"
   ]
  },
  {
   "cell_type": "code",
   "execution_count": null,
   "metadata": {},
   "outputs": [],
   "source": [
    "path = []\n",
    "used = [0 for _ in range(7)]\n",
    "\n",
    "def f(n):\n",
    "    if n == 2:\n",
    "        print(*path)\n",
    "        return\n",
    "\n",
    "    for i in range(1, 7):\n",
    "        if used[i] == 1:\n",
    "            continue\n",
    "        used[i] = 1\n",
    "        path.append(i)\n",
    "        f(n + 1)\n",
    "        path.pop()\n",
    "        used[i] = 0\n",
    "\n",
    "f(0)"
   ]
  },
  {
   "cell_type": "markdown",
   "metadata": {},
   "source": [
    "### 완전탐색\n",
    "- 모든 가능한 경우를 모두 시도를 해보아 정답을 찾아내는 알고리즘\n",
    "- 완전탐색 중 백트래킹으로 조건을 벗어나는 경우를 먼저 제외할 수 있다\n",
    "- 완전탐색 후 조건을 걸어 조건에 맞는 것만 출력"
   ]
  },
  {
   "cell_type": "code",
   "execution_count": 5,
   "metadata": {},
   "outputs": [
    {
     "name": "stdout",
     "output_type": "stream",
     "text": [
      "108\n"
     ]
    }
   ],
   "source": [
    "path = []\n",
    "cnt = 0\n",
    "\n",
    "def f(n, sum):\n",
    "    global cnt\n",
    "    if sum > 10:\n",
    "        return\n",
    "\n",
    "    if n == 3:\n",
    "        cnt += 1\n",
    "        return\n",
    "\n",
    "    for i in range(1,7):\n",
    "        path.append(i)\n",
    "        f(n + 1, sum + i)\n",
    "        path.pop()\n",
    "\n",
    "f(0, 0)\n",
    "print(cnt)"
   ]
  }
 ],
 "metadata": {
  "kernelspec": {
   "display_name": "Python 3",
   "language": "python",
   "name": "python3"
  },
  "language_info": {
   "codemirror_mode": {
    "name": "ipython",
    "version": 3
   },
   "file_extension": ".py",
   "mimetype": "text/x-python",
   "name": "python",
   "nbconvert_exporter": "python",
   "pygments_lexer": "ipython3",
   "version": "3.9.13"
  }
 },
 "nbformat": 4,
 "nbformat_minor": 2
}
