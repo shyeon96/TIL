{
 "cells": [
  {
   "cell_type": "markdown",
   "metadata": {},
   "source": [
    "# 240401\n",
    "\n",
    "## Authentication System 2\n",
    "\n",
    "### 회원가입\n",
    "> User 객체를 Create 하는 과정\n",
    "- UserCreationForm()\n",
    "    - 회원 가입시 사용자 입력 데이터를 받는 built-in ModelForm\n",
    "\n",
    "- get_user_model()\n",
    "    - 현재 프로젝트에서 활성화된 사용자 모델을 반환하는 함수\n",
    "\n",
    "### 회원정보 수정\n",
    "> User 객체를 Update하는 과정\n",
    "- UserChangeForm()\n",
    "    - 회원정보 수정 시 사용자 입력 데이터를 받는 built-in ModelForm\n",
    "\n",
    "### 비밀번호 변경\n",
    "> 인증된 사용자의 Session 데이터를 Update 하는 과정\n",
    "- PasswordChangeForm()\n",
    "    - 비밀번호 변경 시 사용자 입력 데이터를 받는 built-in Form\n",
    "\n",
    "### 세션 무효화 방지하기\n",
    "- 암호 변경 시 세션 무효화\n",
    "    - 비밀번호가 변경되면 기존 세션과의 회원 인증 정보가 일치하지 않게 되어 버려 로그인 상태가 유지되지 못하고 로그아웃 처리됨\n",
    "    - 비밀번호가 변경되면서 기존 세션과의 회원 인증 정보가 일치하지 않기 때문\n",
    "\n",
    "### 로그인 사용자에 대해 접근을 제한하는 2가지 방법\n",
    "1. is_authenticated 속성 (attrbute)\n",
    "2. login_required 데코레이터 (decorator)\n",
    "- is_authenticated\n",
    "    - 사용자가 인증 되었는지 여부를 알 수 있는 User model의 속성\n",
    "    - 모든 User 인스턴스에 대해 항상 True인 읽기 전용 속성이며, 비인증 사용자에 대해서는 항상 False\n",
    "\n",
    "- login_required\n",
    "    - 인증된 사용자에 대해서만 view 함수를 실행시키는 데코레이터\n",
    "    - 비인증 사용자의 경우 /accounts/login/ 주소로 redirect 시킴"
   ]
  }
 ],
 "metadata": {
  "language_info": {
   "name": "python"
  }
 },
 "nbformat": 4,
 "nbformat_minor": 2
}
