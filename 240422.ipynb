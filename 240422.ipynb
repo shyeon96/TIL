{
 "cells": [
  {
   "cell_type": "markdown",
   "metadata": {},
   "source": [
    "# Event\n",
    "> 무언가 일어났다는 신호, 사건\n",
    "\n",
    "## event handler\n",
    "- 이벤트가 발생했을 때 실행되는 함수\n",
    "- 사용자의 행동에 어떻게 반응할지를 Javascript 코드로 표현한 것\n",
    "\n",
    "## .addEventListener()\n",
    "> 대표적인 이벤트 핸들러 중 하나\n",
    "- 특정 이벤트를 DOM요소가 수신할 때마다 콜백 함수를 호출\n",
    "- EventTarget.addEventListener(type, handler)\n",
    "    - EventTarget : DOM 요소\n",
    "    - type : 수신할 이벤트\n",
    "        - 문자열로 작성\n",
    "    - handler : 콜백함수\n",
    "        - 발생한 이베트 객체를 수신하는 콜백함수\n",
    "        - 콜백 함수는 발생한 event object 를 유일한 매개변수로 받음\n",
    "\n",
    "# 버블링\n",
    "- 한 요소에 이벤트가 발생하면, 이 요소에 할당된 핸들러가 동작하고, 이어서 부모요소의 핸들러가 동작하는 현상\n",
    "- 가장 최상단의 조상요소를 만날 때까지 이 과정이 반복되면서 요소 각각에 할당된 핸들러가 동작\n",
    "\n",
    "## 이벤트가 정확히 어디서 발생했는지 접근할 수 있는 방법\n",
    "- event.currentTarget\n",
    "    - 현재 요소\n",
    "    - 항상 이벤트 핸들러가 연결된 요소만을 참조하는 속성\n",
    "    - 'this'와 같음\n",
    "\n",
    "- event.target\n",
    "    - 이벤트가 발생한 가장 안쪽의 요소를 참조하는 속성\n",
    "    - 실제 이벤트가 시작된 요소\n",
    "    - 버블링이 진행 되어도 변하지 않음\n",
    "\n",
    "## lodash\n",
    "- 모듈성, 성능 및 추가 기능을 제공하는 JavaScript 유틸리티 라이브러리\n",
    "- array, object 등 자료구조를 다룰 때 사용하는 유용하고 간편한 함수들을 제공\n",
    "\n",
    "## 이벤트의 기본 동작 취소하기\n",
    "- HTML의 각 요소가 기본적으로 가지고 있는 이벤트가 때로는 방해가 되는 경우가 있어 이벤트의 기본 동작을 취소할 필요가 있음\n",
    "- .preventDefault()\n",
    "경기도 성남시 분당구 정자일로 210 1602호"
   ]
  }
 ],
 "metadata": {
  "language_info": {
   "name": "python"
  }
 },
 "nbformat": 4,
 "nbformat_minor": 2
}
