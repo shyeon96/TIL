{
 "cells": [
  {
   "cell_type": "markdown",
   "metadata": {},
   "source": [
    "# 240213\n",
    "\n",
    "## 스택2\n",
    "\n",
    "### 계산기1\n",
    "> 문자열로 된 계산식이 주어질 때, 스택을 이용하여 이 계산식의 값을 계산할 수 있다  \n",
    "> 문자열 수식 계산의 일반적 방법  \n",
    "    1. 중위 표기법의 수식을 후위 표기법으로 바꾼다  \n",
    "        ex) A + B => AB+  \n",
    "    2. 후위 표기법의 수식을 스택을 이용해 계산한다  \n",
    "        (6+5*(2-8)/2) = 6528-*2/+"
   ]
  },
  {
   "cell_type": "code",
   "execution_count": 3,
   "metadata": {},
   "outputs": [
    {
     "name": "stdout",
     "output_type": "stream",
     "text": [
      "6528-*2/+\n"
     ]
    }
   ],
   "source": [
    "top = -1\n",
    "stack = [0] * 100\n",
    "\n",
    "icp = {'(':3, '*':2, '/':2, '+':1, '-':1}   # 스택 밖에서의 우선순위\n",
    "isp = {'(':0, '*':2, '/':2, '+':1, '-':1}   # 스택 안에서의 우선순위\n",
    "fx = '(6+5*(2-8)/2)'\n",
    "postfix = ''\n",
    "\n",
    "for tk in fx:\n",
    "    # 여는 괄호 push, 연산자이고 top 원소보다 우선순위가 높으면 push\n",
    "    if tk == '(' or (tk in '*/+-' and isp[stack[top]] < icp[tk]):\n",
    "        top += 1    # push\n",
    "        stack[top] = tk\n",
    "    elif tk in '*/+-' and (isp[stack[top]] >= icp[tk]):\n",
    "    # 연산자인데 top 원소보다 우선순위가 낮으면\n",
    "        while isp[stack[top]] >= icp[tk]:   # top 원소의 우선순위가 낮을때까지 pop\n",
    "            top -= 1    # pop\n",
    "            postfix += stack[top+1]\n",
    "        top += 1\n",
    "        stack[top] = tk\n",
    "    elif tk == ')':     # 닫는 괄호면, 여는 괄호를 만날 때까지 pop\n",
    "        while stack[top] != '(':\n",
    "            top -= 1\n",
    "            postfix += stack[top+1]\n",
    "        top -= 1    # 여는 괄호 pop 해서 버림\n",
    "        stack[top+1]\n",
    "    else:   # 피연산자인 경우\n",
    "        postfix += tk\n",
    "print(postfix)"
   ]
  },
  {
   "cell_type": "markdown",
   "metadata": {},
   "source": [
    "### 계산기2\n",
    "> 후위 표기법의 수식을 스택을 이용하여 계산  \n",
    "    1. 피연산자를 만나면 스택에 push 한다  \n",
    "    2. 연산자를 만나면 필요한 만큼 피연산자를 스택에서 pop하여 연산하고 연산결과를 다시 스택에 push 한다  \n",
    "    3. 수식이 끝나면 마지막으로 스택을 pop 하여 출력한다"
   ]
  },
  {
   "cell_type": "markdown",
   "metadata": {},
   "source": [
    "### 백트래킹\n",
    "> 해를 찾는 도중에 막히면 되돌아가서 다시 해를 찾아가는 기법  \n",
    "> 최적화 문제와 결정 문재를 해결할 수 있다  \n",
    "\n",
    "- 백트래킹을 이용한 알고리즘\n",
    "    1. 상태 공간 트리의 깊이 우선 검색을 실시한다\n",
    "    2. 각 노드가 유망한지를 점검한다\n",
    "    3. 만일 그 노드가 유망하지 않으면, 그 노드의 부모 노드로 돌아가서 검색을 계속한다"
   ]
  },
  {
   "cell_type": "markdown",
   "metadata": {},
   "source": [
    "### 부분집합\n",
    "> 어떤 집합의 공집합과 자기자신을 포함한 모든 부분집합을 powerset이라 하며 구하고자 하는 어떤 집합의 원소 개수가 n일 경우 부분집합의 개수는 2^n 개 이다.  \n",
    "\n"
   ]
  },
  {
   "cell_type": "code",
   "execution_count": null,
   "metadata": {},
   "outputs": [],
   "source": [
    "# powerset을 구하는 백트래킹 알고리즘\n",
    "def backtrack(a,k, input):\n",
    "    global MAXCANDIDATES\n",
    "    c = [0] * MAXCADIDATES\n",
    "\n",
    "def construct_candidates(a, k, input, c):\n",
    "    c[0] = True\n",
    "    c[1] = False\n",
    "    return 2\n",
    "\n",
    "if k == input:\n",
    "    process_solution(a, k)  #  답이면 원하는 작업을 한다\n",
    "else:\n",
    "    k += 1\n",
    "    ncandidates = construct_candidates(a, k, input, c)\n",
    "    for i in range(ncandidates):\n",
    "        a[k] = c[i]\n",
    "        backtrack(a,k,input)"
   ]
  },
  {
   "cell_type": "code",
   "execution_count": 2,
   "metadata": {},
   "outputs": [
    {
     "name": "stdout",
     "output_type": "stream",
     "text": [
      "\n",
      "4 \n",
      "3 \n",
      "3 4 \n",
      "2 \n",
      "2 4 \n",
      "2 3 \n",
      "2 3 4 \n",
      "1 \n",
      "1 4 \n",
      "1 3 \n",
      "1 3 4 \n",
      "1 2 \n",
      "1 2 4 \n",
      "1 2 3 \n",
      "1 2 3 4 \n"
     ]
    }
   ],
   "source": [
    "def f(i, k):\n",
    "    if i == k:\n",
    "        for j in range(k):\n",
    "            if bit[j]:\n",
    "                print(arr[j], end = ' ')\n",
    "        print()\n",
    "    else:\n",
    "        for j in range(2):\n",
    "            bit[i] = j\n",
    "            f(i+1, k)\n",
    "            \n",
    "N = 4\n",
    "arr = [1,2,3,4]\n",
    "bit = [0]*N # bit[i] : arr[i]가 부분집합에 포함되었는지 나타내는 배열\n",
    "f(0, N)     # bit[i]에 1 또는 0을 채우고, N개의 원소가 결정되면 부분집합을 출력"
   ]
  }
 ],
 "metadata": {
  "kernelspec": {
   "display_name": "Python 3",
   "language": "python",
   "name": "python3"
  },
  "language_info": {
   "codemirror_mode": {
    "name": "ipython",
    "version": 3
   },
   "file_extension": ".py",
   "mimetype": "text/x-python",
   "name": "python",
   "nbconvert_exporter": "python",
   "pygments_lexer": "ipython3",
   "version": "3.9.13"
  }
 },
 "nbformat": 4,
 "nbformat_minor": 2
}
