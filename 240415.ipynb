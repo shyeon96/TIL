{
 "cells": [
  {
   "cell_type": "markdown",
   "metadata": {},
   "source": [
    "# 240415\n",
    "\n",
    "## DRF with N:1 Relation\n",
    "\n",
    "## 댓글 전체조회\n",
    "1. CommentSerializer 정의\n",
    "2. url 작성\n",
    "3. view 함수 작성"
   ]
  },
  {
   "cell_type": "code",
   "execution_count": null,
   "metadata": {},
   "outputs": [],
   "source": [
    "class CommentSerializer(serializers.ModelSerializer):\n",
    "\n",
    "    class Meta:\n",
    "        model = Comment\n",
    "        fields = '__all__'\n",
    "\n",
    "path('comments/', views.comment_list),\n",
    "\n",
    "@api_view(['GET'])\n",
    "def comment_list(request):\n",
    "    # 전체 댓글 조회\n",
    "    comments = Comment.objects.all()\n",
    "    serializer = CommentSerializer(comments, many=True)\n",
    "    return Response(serializer.data)"
   ]
  },
  {
   "cell_type": "markdown",
   "metadata": {},
   "source": [
    "## 특정 번호의 댓글 조회\n",
    "1. url 작성\n",
    "2. view 함수 작성"
   ]
  },
  {
   "cell_type": "code",
   "execution_count": null,
   "metadata": {},
   "outputs": [],
   "source": [
    "path('comments/<int:comment_pk>/', views.comment_detail),\n",
    "\n",
    "\n",
    "@api_view(['GET'])\n",
    "def comment_detail(request, comment_pk):\n",
    "    comment = Comment.objects.get(pk = comment_pk)\n",
    "    serializer = CommentSerializer(comment)\n",
    "    return Response(serializer.data)\n"
   ]
  },
  {
   "cell_type": "markdown",
   "metadata": {},
   "source": [
    "## 댓글 생성\n",
    "1. url 및 view 함수 작성\n",
    "2. serializer.py 에서 read_only_fields로 지정해줌"
   ]
  },
  {
   "cell_type": "code",
   "execution_count": null,
   "metadata": {},
   "outputs": [],
   "source": [
    "path('articles/<int:article_pk>/comments/', views.comment_create),\n",
    "\n",
    "\n",
    "@api_view(['POST'])\n",
    "def comment_create(request, article_pk):\n",
    "    article = Article.objects.get(pk = article_pk)\n",
    "    serializer = CommentSerializer(data = request.data)\n",
    "    if serializer.is_valid(raise_exception=True):\n",
    "        serializer.save(article=article)\n",
    "        return Response(serializer.data, status=status.HTTP_201_CREATED)\n",
    "# raise_exception=True를 통해 실패했을 때 메시지를 생략\n",
    "# save(article=article)를 해줘서 생성하려는 댓글의 게시물 pk값을 넣어줌\n",
    "# 하지만 is_valid 이후에 넣어주므로 400 에러는 계속 뜸\n",
    "# serializer.py 에서 article을 읽기전용 필드로 바꿔줘야 함\n",
    "    \n",
    "class CommentSerializer(serializers.ModelSerializer):\n",
    "\n",
    "    class Meta:\n",
    "        model = Comment\n",
    "        fields = '__all__'\n",
    "        read_only_fields = ('article',)"
   ]
  },
  {
   "cell_type": "markdown",
   "metadata": {},
   "source": [
    "## 단일 댓글 삭제 및 수정\n",
    "1. comment_detail view 함수 수정"
   ]
  },
  {
   "cell_type": "code",
   "execution_count": null,
   "metadata": {},
   "outputs": [],
   "source": [
    "# views.py\n",
    "@api_view(['GET', 'DELETE', 'PUT'])\n",
    "def comment_detail(request, comment_pk):\n",
    "    comment = Comment.objects.get(pk = comment_pk)\n",
    "    if request.method == 'POST':\n",
    "        serializer = CommentSerializer(comment)\n",
    "        return Response(serializer.data)\n",
    "    \n",
    "    elif request.method == 'DELETE':\n",
    "        comment.delete()\n",
    "        return Response(status=status.HTTP_204_NO_CONTENT)\n",
    "    \n",
    "    elif request.method == 'PUT':\n",
    "        serializer = CommentSerializer(comment, data=request.data)\n",
    "        if serializer.is_valid(raise_exception=True):\n",
    "            serializer.save()\n",
    "            return Response(serializer.data)"
   ]
  },
  {
   "cell_type": "markdown",
   "metadata": {},
   "source": [
    "## 댓글 조회 시 게시글 제목까지 제공하고 싶다면?\n",
    "- CommentSerializer를 변경"
   ]
  },
  {
   "cell_type": "code",
   "execution_count": null,
   "metadata": {},
   "outputs": [],
   "source": [
    "class CommentSerializer(serializers.ModelSerializer):\n",
    "    class ArticleTitleSerializer(serializers.ModelSerializer):\n",
    "        class Meta:\n",
    "            model = Article\n",
    "            fields = ('title',)\n",
    "    article = ArticleTitleSerializer(read_only=True)\n",
    "    \n",
    "    class Meta:\n",
    "        model = Comment\n",
    "        fields = '__all__'\n",
    "        read_only_fields = ('article',)"
   ]
  },
  {
   "cell_type": "markdown",
   "metadata": {},
   "source": [
    "## 단일 게시글 & 댓글 목록\n",
    "- 역참조를 할때는 참조되는 대상에 포함하여 작성\n",
    "- 단일 게시글을 조회할 때, 그 게시글에 달린 댓글마저 보고싶다면"
   ]
  },
  {
   "cell_type": "code",
   "execution_count": null,
   "metadata": {},
   "outputs": [],
   "source": [
    "class ArticleSerializer(serializers.ModelSerializer):\n",
    "    class CommentDetailSerializer(serializers.ModelSerializer):\n",
    "        class Meta:\n",
    "            model = Comment\n",
    "            fields = ('id', 'content',)\n",
    "    \n",
    "    comment_set = CommentDetailSerializer(read_only=True, many=True)\n",
    "\n",
    "    class Meta:\n",
    "        model = Article\n",
    "        fields = '__all__'"
   ]
  },
  {
   "cell_type": "markdown",
   "metadata": {},
   "source": [
    "## 단일 게시글 + 댓글 개수\n",
    "- 댓글 개수를 표현하는 새로운 필드 생성\n",
    "- source\n",
    "  - 필드를 채우는데 사용할 속성의 이름\n",
    "  - 점 표기법을 사용하여 속성을 탐색 할 수 있음\n",
    "- 특정 필드를 추가, 수정한 경우 read_only_fields는 동작하지 않음\n",
    "- 이런 경우 새로운 필드에 read_only 키워드 인자로 작성해야 함"
   ]
  },
  {
   "cell_type": "code",
   "execution_count": null,
   "metadata": {},
   "outputs": [],
   "source": [
    "class ArticleSerializer(serializers.ModelSerializer):\n",
    "    class CommentDetailSerializer(serializers.ModelSerializer):\n",
    "        class Meta:\n",
    "            model = Comment\n",
    "            fields = ('id', 'content',)\n",
    "    \n",
    "    comment_set = CommentDetailSerializer(read_only=True, many=True)\n",
    "    comment_count = serializers.IntegerField(source='comment_set.count', read_only=True)"
   ]
  },
  {
   "cell_type": "markdown",
   "metadata": {},
   "source": [
    "## API 문서화\n",
    "\n",
    "### OAS\n",
    "- RESTful API를 설명하고 시각화하는 표준화된 방법\n",
    "- swagger 와 Redoc을 사용\n",
    "1. drf-spcetacular 설치\n",
    "2. settings.py에 등록\n",
    "3. url.py 에 주소 추가"
   ]
  },
  {
   "cell_type": "code",
   "execution_count": null,
   "metadata": {},
   "outputs": [],
   "source": [
    "# settings.py\n",
    "INSTALLED_APPS = [\n",
    "    # ALL YOUR APPS\n",
    "    'drf_spectacular',\n",
    "]\n",
    "\n",
    "REST_FRAMEWORK = {\n",
    "    # YOUR SETTINGS\n",
    "    'DEFAULT_SCHEMA_CLASS': 'drf_spectacular.openapi.AutoSchema',\n",
    "}\n",
    "\n",
    "# urls.py\n",
    "\n",
    "from drf_spectacular.views import SpectacularAPIView, SpectacularRedocView, SpectacularSwaggerView\n",
    "\n",
    "# YOUR PATTERNS\n",
    "    path('api/schema/', SpectacularAPIView.as_view(), name='schema'),\n",
    "    # Optional UI:\n",
    "    path('api/schema/swagger-ui/', SpectacularSwaggerView.as_view(url_name='schema'), name='swagger-ui'),\n",
    "    path('api/schema/redoc/', SpectacularRedocView.as_view(url_name='schema'), name='redoc'),"
   ]
  },
  {
   "cell_type": "markdown",
   "metadata": {},
   "source": [
    "## get_object_or_404() get_list_or_404()\n",
    "- 500에러 대신 404에러로 반환시켜주는 숏컷 함수\n",
    "- 단일 데이터 조회시에는 object, 다중 데이터 조회시에는 list를 사용"
   ]
  },
  {
   "cell_type": "code",
   "execution_count": null,
   "metadata": {},
   "outputs": [],
   "source": [
    " # articles = Article.objects.all()\n",
    "articles = get_list_or_404(Article)\n",
    "\n",
    "\n",
    "# article = Article.objects.get(pk=article_pk)\n",
    "article = get_object_or_404(Article, pk = article_pk)"
   ]
  }
 ],
 "metadata": {
  "language_info": {
   "name": "python"
  }
 },
 "nbformat": 4,
 "nbformat_minor": 2
}
