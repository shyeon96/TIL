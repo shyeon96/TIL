{
 "cells": [
  {
   "cell_type": "markdown",
   "metadata": {},
   "source": [
    "# 240326\n",
    "\n",
    "## ORM with view\n",
    "- Django shell에서 연습했던 QuerySet API를 직접 view 함수에서 사용하기\n",
    "\n",
    "## Read\n",
    "- 2가지 Read(조회) 진행\n",
    "    1. 전체 게시글 조회\n",
    "    2. 단일 게시글 조회\n",
    "\n",
    "## Create\n",
    "- Create 로직을 구현하기 위해 필요한 view함수의 개수는?\n",
    "    - 사용자 입력 데이터를 받을 페이지 랜더링\n",
    "    - 사용자가 입력한 데이터를 받아 DB에 저장\n",
    "\n",
    "### HTTP request methods\n",
    "- 데이터에 어떤 요청을 원하는지를 나타내는 것\n",
    "- GET & POST\n",
    "\n",
    "### GET method\n",
    "- 특정 리소스를 조회하는 요청\n",
    "\n",
    "### POST method\n",
    "- 특정 리소스에 변경을 요구하는 요청\n",
    "- 요청시 해킹방지를 위해 CSRF 토큰과 함께 보내야 한다\n",
    "\n",
    "### redirect\n",
    "- 데이터 저장 후 페이지를 주는 것이 아닌 다른 페이지로 사용자를 보내야 한다\n",
    "    = 사용자가 GET요청을 한번 더 보내도록 해야 한다.\n",
    "\n",
    "## Delete\n",
    "- 삭제하기전에는 반드시 데이터를 불러와야 한다.\n",
    "\n",
    "## Update\n",
    "- 사용자 입력 데이터를 받을 페이지와 받은 데이터를 DB에 저장할 view 함수 2개를 써야함\n"
   ]
  }
 ],
 "metadata": {
  "language_info": {
   "name": "python"
  }
 },
 "nbformat": 4,
 "nbformat_minor": 2
}
