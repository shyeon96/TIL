{
 "cells": [
  {
   "cell_type": "markdown",
   "metadata": {},
   "source": [
    "# 240205\n",
    "\n",
    "## 문자열\n",
    "> 지역별, 회사별로 다른 코드체계가 혼동을 주기 때문에 ASCII라는 문자 인코딩 표준이 제정되었다.  \n",
    "> ASCII는 7-bit 인코딩으로 128문자를 표현하며 33개의 출력 불가능한 제어 문자들과 공백을 비롯한 95개의 출력가능 문자들로 이루어져 있다.  \n",
    "> 확장 아스키는 8-bit를 모두 사용하여 추가적인 문자를 사용할 수 있다.  \n",
    "\n"
   ]
  },
  {
   "cell_type": "code",
   "execution_count": null,
   "metadata": {},
   "outputs": [],
   "source": []
  }
 ],
 "metadata": {
  "language_info": {
   "name": "python"
  }
 },
 "nbformat": 4,
 "nbformat_minor": 2
}
