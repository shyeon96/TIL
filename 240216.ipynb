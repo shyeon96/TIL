{
 "cells": [
  {
   "cell_type": "markdown",
   "metadata": {},
   "source": [
    "# 240216\n",
    "\n",
    "## BFS (Breadth First Search)\n",
    "- 그래프를 탐색하는 방법에는 크게 두 가지가 있음\n",
    "    - 깊이 우선 탐색\n",
    "    - 너비 우선 탐색\n",
    "\n",
    "- 너비우선탐색은 탐색 시작점의 인접한 정점들을 먼저 모두 차례로 방문한 후에 방문했던 정점을 시작점으로 하여 다시 인접한 정점들을 차례로 방문하는 방식\n",
    "\n",
    "- 인접한 정점들에 대해 탐색을 한 후, 차례로 다시 너비우선탐색을 진행해야 하므로 선입선출 형태의 자료구조인 큐를 활용"
   ]
  },
  {
   "cell_type": "code",
   "execution_count": null,
   "metadata": {},
   "outputs": [],
   "source": [
    "def BFS(G,v):   # 그래프 G, 탐색 시작점 v\n",
    "    visited = [0] * (n+1)   # n : 정점의 개수\n",
    "    queue = []              # 큐 생성\n",
    "    queue.append(v)         # 시작점 v를 큐에 삽입\n",
    "    while queue:            # 큐가 비어있지않을때\n",
    "        t = queue.pop(0)    # 큐의 첫번째 원소 반환\n",
    "        if not visited[t]:  # 방문되지 않은 곳이면\n",
    "            visited = True  # 방문한 것으로 표시\n",
    "            visit(t)        # 정점 t에서 할 일\n",
    "            for i in G(t):  # t와 연결된 모든 정점에서\n",
    "                if not visited[i]:  # 방문되지 않은 곳이면\n",
    "                    queue.append(i) # 큐에 넣기"
   ]
  },
  {
   "cell_type": "code",
   "execution_count": null,
   "metadata": {},
   "outputs": [],
   "source": [
    "'''\n",
    "V E : V 1~V번 까지 정점 E개의 간선\n",
    "E 개의 간선정보\n",
    "7 8\n",
    "1 2 1 3 2 4 2 5 4 6 5 6 6 7 3 7\n",
    "'''\n",
    "def bfs(s, N):  # 시작정점 s, 노드개수 N\n",
    "    q = []                  # 큐\n",
    "    visited = [0]*(N+1)     # visited\n",
    "    q.append(s)             # 시작점 인큐\n",
    "    visited[s] = 1          # 시작점 방문 표시\n",
    "    while q:                # 큐가 비워질때까지 반복\n",
    "        t = q.pop(0)\n",
    "        # t에서 할 일\n",
    "        print(t)\n",
    "        for i in adjl[t]:       # t에 인접인 정점 i\n",
    "            if visited[i] == 0: # 방문하지 않은 정점이면\n",
    "                q.append(i)     # 인큐\n",
    "                visited[i] = 1 + visited[t] # 방문표시\n",
    "\n",
    "\n",
    "\n",
    "V,E = map(int,input().split())\n",
    "arr = list(map(int, input().split()))\n",
    "# 인접리스트\n",
    "adjl = [[] for _ in range(V+1)]\n",
    "for i in range(E):\n",
    "    n1, n2 = arr[i*2], arr[i*2+1]\n",
    "    adjl[n1].append(n2)\n",
    "    adjl[n2].append(n1) # 무향 그래프\n",
    "\n",
    "bfs (1, V)"
   ]
  }
 ],
 "metadata": {
  "language_info": {
   "name": "python"
  }
 },
 "nbformat": 4,
 "nbformat_minor": 2
}
