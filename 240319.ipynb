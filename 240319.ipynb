{
 "cells": [
  {
   "cell_type": "markdown",
   "metadata": {},
   "source": [
    "# 240319\n",
    "\n",
    "## 백트래킹 응용\n",
    "- 완전 탐색 + 가지치기\n",
    "- 가능성이 없는 경우의 수를 제거하는 방법"
   ]
  },
  {
   "cell_type": "code",
   "execution_count": 4,
   "metadata": {},
   "outputs": [
    {
     "name": "stdout",
     "output_type": "stream",
     "text": [
      "1 2 3\n",
      "1 3 2\n",
      "2 1 3\n",
      "2 3 1\n",
      "3 1 2\n",
      "3 2 1\n"
     ]
    }
   ],
   "source": [
    "# 백트래킹\n",
    "\n",
    "# 중복된 순열\n",
    "arr = [i for i in range(1,4)]\n",
    "asd = []\n",
    "visited = [0] * len(arr)\n",
    "def dfs(level):\n",
    "    if level == 3:\n",
    "        print(*asd)\n",
    "        return\n",
    "    for a in range(len(arr)):\n",
    "        if visited[a] == 1:\n",
    "            continue\n",
    "        visited[a] = 1\n",
    "        asd.append(arr[a])\n",
    "        dfs(level+1)\n",
    "        asd.pop()\n",
    "        visited[a] = 0\n",
    "dfs(0)"
   ]
  },
  {
   "cell_type": "markdown",
   "metadata": {},
   "source": [
    "## 트리\n",
    "\n",
    "### 트리는 싸이클이 없는 무향 연결 그래프이다\n",
    "1. 싸이클\n",
    "    - 방문했던 노드로 다시 돌아오는 다른 경로가 있는 경우\n",
    "2. 무향\n",
    "    - 간선에 방향이 없다\n",
    "3. 연결 그래프\n",
    "    - 모든 꼭지점이 서로 갈 수 있는 경로가 있다\n",
    "\n",
    "### 이진트리\n",
    "- 포화 이진트리\n",
    "    - 모든 레벨에 노드가 포화상태인 이진트리\n",
    "- 완전 이진트리\n",
    "    - 높이가 h이고 노드 수가 n개일 때 포화 이진트리의 노드 번호가 n번까지 빈 자리가 없는 이진트리\n",
    "- 편향 이진 트리\n",
    "     - 높이 h에 대한 최소 개수의 노드를 가지면서 한쪽방향의 자식노드만을 가진 이진 트리\n",
    "\n",
    "### 이진트리- 순회\n",
    "- 트리의 각 노드를 중복되지 않게 전부 방문하는 것을 말하는데 트리는 비 선형 구조이기 때문에 선형구조에서와 같이 선후 연결 관계를 알 수 없음\n",
    "\n",
    "- 3가지 기본적인 순회방법\n",
    "    - 전위: 중 좌 우\n",
    "    - 중위: 좌 중 우\n",
    "    - 후위: 좌 우 중\n",
    "\n",
    "### 이진 탐색 트리\n",
    "- 탐색 작업을 효율적으로 하기위한 자료구조\n",
    "- 모든 원소는 서로 다른 유일한 키를 갖는다\n",
    "- 왼쪽 서브트리는 루트보다 작은 값, 오른쪽 서브트리는 루트보다 큰 값을 갖는다\n",
    "- 탐색 연산의 횟수는 트리의 높이만큼이다\n",
    "\n",
    "### 힙 트리\n",
    "- 완전 이진 트리에 있는 노드 중에서 키 값이 가장 큰 노드나 키 값이 가장 작은 노드를 찾기 위해 만든 자료구조\n",
    "- 최대 힙\n",
    "    - 키 값이 가장 큰 노드를찾기 위한 완전 이진 트리\n",
    "    - 부모 노드의 키 값 > 자식 노드의 키 값\n",
    "    - 루트노드: 키 값이 가장 큰 노드\n",
    "- 최소 힙\n",
    "    - 키 값이 가장 작은 노드를 찾기 위한 완전 이진 트리\n",
    "    - 부모노드의 키 값 < 자식 노드의 키 값\n",
    "    - 루트 노드: 키 값이 가장 작은 노드\n"
   ]
  },
  {
   "cell_type": "code",
   "execution_count": 6,
   "metadata": {},
   "outputs": [
    {
     "name": "stdout",
     "output_type": "stream",
     "text": [
      "12 7 4 2 1 8 5 9 3 10 6 13 11 "
     ]
    }
   ],
   "source": [
    "# 트리순회\n",
    "arr = [1, 2, 1, 3, 2, 4, 3, 5, 3, 6, 4, 7, 5, 8, 5, 9, 6, 10, 6, 11, 7, 12, 11, 13]\n",
    "\n",
    "nodes = [[] for _ in range(14)]\n",
    "for i in range(0, len(arr), 2):\n",
    "    parent_node = arr[i]\n",
    "    child_node = arr[i+1]\n",
    "    nodes[parent_node].append(child_node)\n",
    "\n",
    "for li in nodes:\n",
    "    for _ in range(len(li), 2):\n",
    "        li.append(None)\n",
    "\n",
    "# 중위순회\n",
    "def inorder(nodenum):\n",
    "    if nodenum == None:\n",
    "        return\n",
    "    inorder(nodes[nodenum][0])\n",
    "    print(nodenum, end=' ')\n",
    "    inorder(nodes[nodenum][1])\n",
    "inorder(1)"
   ]
  }
 ],
 "metadata": {
  "kernelspec": {
   "display_name": "Python 3",
   "language": "python",
   "name": "python3"
  },
  "language_info": {
   "codemirror_mode": {
    "name": "ipython",
    "version": 3
   },
   "file_extension": ".py",
   "mimetype": "text/x-python",
   "name": "python",
   "nbconvert_exporter": "python",
   "pygments_lexer": "ipython3",
   "version": "3.9.13"
  }
 },
 "nbformat": 4,
 "nbformat_minor": 2
}
