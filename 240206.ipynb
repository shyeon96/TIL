{
 "cells": [
  {
   "cell_type": "markdown",
   "metadata": {},
   "source": [
    "# 240206\n",
    "\n",
    "## 패턴매칭\n",
    "- 고지식한 패턴 검색 알고리즘\n",
    "- 카프-라빈 알고리즘\n",
    "- KMP 알고리즘\n",
    "- 보이어-무어 알고리즘\n",
    "\n",
    "### 고지식한 알고리즘\n",
    "- 본문 문자열을 처음부터 끝까지 차례대로 순회하면서 패턴내의 문자들을 일일이 비교하는 방식으로 동작  \n",
    "- 최악의 경우 시간복잡도는 텍스트의 모든 위치에서 패턴을 비교해야 하므로 O(MN)이 됨\n",
    "- 길이가 10000인 문자열에서 길이 80인 패턴을 찾는다고 할 때, 최악의 경우 약 800000 번의 비교가 일어난다"
   ]
  },
  {
   "cell_type": "code",
   "execution_count": 2,
   "metadata": {},
   "outputs": [
    {
     "name": "stdout",
     "output_type": "stream",
     "text": [
      "2\n"
     ]
    }
   ],
   "source": [
    "p = 'is'\n",
    "t = 'this is a book'\n",
    "M = len(p)\n",
    "N = len(t)\n",
    "\n",
    "def BruteForce(p,t):\n",
    "    i = 0\n",
    "    j = 0\n",
    "    while j < M and i < N:\n",
    "        if t[i] != p[j]:\n",
    "            i = i-j\n",
    "            j = -1\n",
    "        i = i + 1\n",
    "        j = j + 1\n",
    "    if j == M:\n",
    "        return i - M\n",
    "    else:\n",
    "        return -1\n",
    "    \n",
    "result = BruteForce(p,t)\n",
    "print(result)"
   ]
  },
  {
   "cell_type": "code",
   "execution_count": null,
   "metadata": {},
   "outputs": [],
   "source": [
    "def f(p,t,M,N):\n",
    "    for i in range(N-M+1):  # 텍스트의 시작 위치\n",
    "        for j in range(M):  # 패턴의 시작 위치\n",
    "            if t[i+j] != p[j]:  # 불일치면 다음 시작위치로\n",
    "                break\n",
    "        else:               # for 문이 무사히 끝났다면\n",
    "            return 1\n",
    "        # 모든 위치에서 비교가 끝난경우\n",
    "    return 0\n",
    "\n",
    "T = int(input())\n",
    "for tc in range(1, T+1):\n",
    "    p = input()\n",
    "    t = input()\n",
    "    M = len(p)\n",
    "    N = len(t)\n",
    "\n",
    "\n",
    "    result = f(p,t,M,N)"
   ]
  },
  {
   "cell_type": "markdown",
   "metadata": {},
   "source": [
    "### KMP 알고리즘\n",
    "- 불일치가 발생한 텍스트 스트링의 앞 부분에 어떤 문자가 있는지를 미리 알고 있으므로, 불일치가 발생한 앞 부분에 대하여 다시 비교하지 않고 매칭을 수행  \n",
    "- 패턴을 전처리하여 배열 next[M]을 구해서 잘못된 시작을 최소화함  \n",
    "- 시간복잡도 O(M+N)"
   ]
  },
  {
   "cell_type": "code",
   "execution_count": null,
   "metadata": {},
   "outputs": [],
   "source": [
    "def kmp(t,p):\n",
    "    N = len(t)\n",
    "    M = len(p)\n",
    "    lps = [0] * (M+1)\n",
    "\n",
    "    j = 0   # 일치한 개수 == 비교할 패턴 위치\n",
    "    lps[0] = -1\n",
    "    for i in range(1, M):\n",
    "        lps[i] = j      # p[i] 이전에 일치한 개수\n",
    "        if p[i] == p[j]:\n",
    "            j += 1\n",
    "        else:\n",
    "            j = 0\n",
    "    lps[M] = j\n",
    "    # search\n",
    "    i = 0\n",
    "    j = 0\n",
    "    while i < N and j <= M:\n",
    "        if j == 1 or t[i] == p[j]:  # 첫글자가 불일치했거나, 일치하면\n",
    "            i += 1\n",
    "            j += 1\n",
    "        else:           # 불일치\n",
    "            j = lps[j]\n",
    "\n",
    "    print()\n",
    "    return"
   ]
  },
  {
   "cell_type": "markdown",
   "metadata": {},
   "source": [
    "### 보이어-무어 알고리즘\n",
    "- 오른쪽에서 왼쪽으로 비교  \n",
    "- 대부분의 상용 소프트웨어에서 채택하고 있는 알고리즘  \n",
    "- 패턴에 오른쪽 끝에 있는 문자가 불일치하고 이 문자가 패턴내에 존재하지 않는 경우, 이동거리는 무려 패턴의 길이만큼이 된다"
   ]
  },
  {
   "cell_type": "markdown",
   "metadata": {},
   "source": [
    "## 문자열 암호화\n",
    "- 평행 이동\n",
    "- 단일 치환 암호\n",
    "- bit열의 암호화"
   ]
  }
 ],
 "metadata": {
  "kernelspec": {
   "display_name": "Python 3",
   "language": "python",
   "name": "python3"
  },
  "language_info": {
   "codemirror_mode": {
    "name": "ipython",
    "version": 3
   },
   "file_extension": ".py",
   "mimetype": "text/x-python",
   "name": "python",
   "nbconvert_exporter": "python",
   "pygments_lexer": "ipython3",
   "version": "3.9.13"
  }
 },
 "nbformat": 4,
 "nbformat_minor": 2
}
