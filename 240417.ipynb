{
 "cells": [
  {
   "cell_type": "markdown",
   "metadata": {},
   "source": [
    "# 자바스트립트 문법\n",
    "- ECMAScript 이후의 명제를 따름\n",
    "\n",
    "## 변수\n",
    "\n",
    "- 식별자 작성 규칙\n",
    "  - 반드시 문자, 달러, 밑줄로 시작\n",
    "  - 대소문자 구분\n",
    "  - 예약어 사용불가\n",
    "    - for, if, function 등\n",
    "  \n",
    "- 식별자 naming case\n",
    "  - 카멜 케이스\n",
    "    - 변수, 객체, 함수에 사용\n",
    "  - 파스칼 케이스\n",
    "    - 클래스, 생성자에 사용\n",
    "  - 대문자 스네이크 케이스\n",
    "    - 상수에 사용\n",
    "  \n",
    "- 변수 선언 키워드 3가지\n",
    "  1. let\n",
    "  2. const\n",
    "  3. var\n",
    "\n",
    "### let\n",
    "- 블록 스코프를 갖는 지역변수를 선언\n",
    "- 재할당 가능\n",
    "- 재선언 불가능\n",
    "- ES6에서 추가"
   ]
  },
  {
   "cell_type": "code",
   "execution_count": null,
   "metadata": {
    "vscode": {
     "languageId": "javascript"
    }
   },
   "outputs": [],
   "source": [
    "let number = 10\n",
    "number = 20 // 가능\n",
    "\n",
    "let number = 10\n",
    "let number = 20 // 불가능"
   ]
  },
  {
   "cell_type": "markdown",
   "metadata": {},
   "source": [
    "### const\n",
    "- 블록 스코프를 갖는 지역 변수를 선언\n",
    "- 재할당 불가능\n",
    "- 재선언 불가능\n",
    "- ES6에서 추가"
   ]
  },
  {
   "cell_type": "code",
   "execution_count": null,
   "metadata": {
    "vscode": {
     "languageId": "javascript"
    }
   },
   "outputs": [],
   "source": [
    "const number = 10\n",
    "number = 20 // 불가능"
   ]
  },
  {
   "cell_type": "markdown",
   "metadata": {},
   "source": [
    "기본적으로 const 사용을 권장  \n",
    "상황에 맞춰 let으로 변경해서 사용"
   ]
  },
  {
   "cell_type": "markdown",
   "metadata": {},
   "source": [
    "## 데이터 타입\n",
    "- 원시 자료형\n",
    "  - Number, String, Boolean, null, indefined\n",
    "  - 변수에 값이 직접 저장되는 자료형 (불변, 값이 복사)\n",
    "- 참조 자료형\n",
    "  - Objects\n",
    "  - 객체의 주소가 저장되는 자료형\n",
    "\n",
    "- Number\n",
    "  - 정수 또는 실수형 숫자를 표현하는 자료형\n",
    "- String\n",
    "  - 텍스트 테이터를 표현하는 자료형\n",
    "  - 템플릿 리터럴\n",
    "    - 파이썬의 f-string의 역할\n",
    "    - ${}로 표기\n",
    "- null\n",
    "  - 변수의 값이 없음을 의도적으로 표현할 때 사용\n",
    "- undefined\n",
    "  - 변수 선언 이후 직접 값을 할당하지 않으면 자동으로 할당됨\n",
    "- Boolean\n",
    "  - true/false 소문자임\n",
    "\n",
    "## 연산자\n",
    "- 할당 연산자\n",
    "  - 오른쪽에 있는 피연산자의 평과 결과를 왼쪽 피연산자에 할당하는 연산자\n",
    "  - 단축 연산자 지원\n",
    "- 증가 & 감소 연산자\n",
    "  - ++, --\n",
    "- 비교 연산자\n",
    "- 동등 연산자\n",
    "  - 값만 같은지 확인하여 true/false 반환\n",
    "  - 암묵적 타입 변환이 있음\n",
    "- 일치 연산자\n",
    "  - 두 피연산자의 값과 타임이 모두같아야 true반환\n",
    "- 논리 연산자\n",
    "- and &\n",
    "- or ||\n",
    "- not !\n",
    "- 단축 평가 지원\n",
    "\n",
    "## if\n",
    "- 조건 표현식의 결과값을 boolean 타입으로 변환후 참/거짓을 판단\n",
    "\n",
    "## 반복문\n",
    "- while\n",
    "  - while (조건문) {}\n",
    "- for \n",
    "  - for ([초기문]; [조건문]; [증감문]) {}\n",
    "- for in\n",
    "  - 객체의 열거 가능한 속성에 대해 반복\n",
    "  - 순서가 정해져있는 배열에 쓰임\n",
    "- for of\n",
    "  - 반복 가능한 객체에 대해 반복\n",
    "  - 순서가 없는 객체 타입에 쓰임"
   ]
  },
  {
   "cell_type": "code",
   "execution_count": null,
   "metadata": {
    "vscode": {
     "languageId": "javascript"
    }
   },
   "outputs": [],
   "source": [
    "for (let i = 0; i < 6; i ++) {\n",
    "  console.log(i)\n",
    "}"
   ]
  },
  {
   "cell_type": "markdown",
   "metadata": {},
   "source": [
    "## 세미콜론\n",
    "- 자바스크립트는 문장 마지막 세미콜론을 선택적으로 사용 가능\n",
    "- 세미콜론이 없으면 ASI에 의해 자동으로 세미콜론이 삽입됨\n",
    "- 자바스크립트 제작자 또한 세미콜론 반대\n",
    "\n",
    "## 변수 선언 키워드 var\n",
    "- ES6 이전에 변수선언에 사용했던 키워드\n",
    "- 재할당 가능 & 재선언 가능\n",
    "- 함수 스코프를 가짐\n",
    "- 변수선언시 선택하지 않으면 자동으로 var이 선언됨\n",
    "\n",
    "### 호이스팅\n",
    "- 변수를 선언 이전에 참조할 수 있는 현상\n",
    "- 변수 선언 이전의 위치에서 접근 시 undefined를 반환\n",
    "\n",
    "### 함수 스코프\n",
    "- 함수의 중괄호 내부를 가리킴\n",
    "- 함수 스코프를 가지는 변수는 함수 바깥에서 접근 불가능\n",
    "\n",
    "### NaN을 반환하는 경우 예시\n",
    "1. 숫자로서 읽을 수 없음\n",
    "2. 결과가 허수인 수학 계산식\n",
    "3. 피연산자가 NaN\n",
    "4. 정의할 수 없는 계산식\n",
    "5. 문자열을 포함하면서 덧셈이 아닌 계산식"
   ]
  },
  {
   "cell_type": "code",
   "execution_count": null,
   "metadata": {
    "vscode": {
     "languageId": "javascript"
    }
   },
   "outputs": [],
   "source": [
    "function foo() {\n",
    "  var x = 1\n",
    "  console.log(x)  // 1\n",
    "}\n",
    "console.log(x) // x is not defined"
   ]
  }
 ],
 "metadata": {
  "language_info": {
   "name": "python"
  }
 },
 "nbformat": 4,
 "nbformat_minor": 2
}
