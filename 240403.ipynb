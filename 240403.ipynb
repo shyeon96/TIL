{
 "cells": [
  {
   "cell_type": "markdown",
   "metadata": {},
   "source": [
    "# 240403\n",
    "\n",
    "## Many to one relationships\n",
    "> 한 테이블의 0개 이상의 레코드가 다른 테이블의 레코드 한 개와 관련된 관계\n",
    "\n",
    "### Comment(N) - Article(1)\n",
    "> 0개 이상의 댓글은 1개의 게시글에 작성될 수 있다\n",
    "\n",
    "### 댓글 모델\n",
    "- ForeignKey()\n",
    "    - N:1 관계 설정 모델 필드\n",
    "    - 참조하려는 class 와 on_delete를 필수 속성으로 가진다.\n",
    "    - 작성하는 위치와 상관없이 테이블 마지막에 생성된다.\n",
    "\n",
    "### 역참조\n",
    "> N:1 관계에서 1에서 N을 참조하거나 조회하는 것\n",
    "- article.comment_set.all()\n",
    "    comment_set에서는 역참조하는 모델의 이름을 쓰면 된다.\n",
    "\n",
    "### related manager\n",
    "> N:1 혹은 M:N 관계에서 역참조 시에 사용하는 매니저\n"
   ]
  }
 ],
 "metadata": {
  "language_info": {
   "name": "python"
  }
 },
 "nbformat": 4,
 "nbformat_minor": 2
}
