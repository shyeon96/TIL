{
 "cells": [
  {
   "cell_type": "markdown",
   "metadata": {},
   "source": [
    "# 자바스크립트 함수\n",
    "\n",
    "## 함수구조\n",
    "- function 키워드\n",
    "- 함수의 이름\n",
    "- 매개변수\n",
    "- body\n",
    "- return 값이 없다면 undefined를 반환"
   ]
  },
  {
   "cell_type": "code",
   "execution_count": null,
   "metadata": {
    "vscode": {
     "languageId": "javascript"
    }
   },
   "outputs": [],
   "source": [
    "function name ([param[, param,[... , param]]]) {\n",
    "  body\n",
    "  return value\n",
    "} "
   ]
  },
  {
   "cell_type": "markdown",
   "metadata": {},
   "source": [
    "## 함수의 정의 2가지 방법\n",
    "- 선언식\n",
    "  - 호이스팅이 가능한 함수\n",
    "- 표현식\n",
    "  - 함수 이름이 없이 사용\n",
    "  - 선언식과 다르게 호이스팅 되지 않으므로 함수 정의 전 먼저 사용할 수 없음\n",
    "  - 사용 권장\n",
    "\n",
    "## 매개변수 정의 방법\n",
    "1. 기본 함수 매개변수\n",
    "  - 전달하는 인자가 없거나 undefined가 전달될 경우 이름 붙은 매개변수를 기본값으로 초기화\n",
    "```javascript\n",
    "const greeting = function (name = 'anonymous') {\n",
    "  return `Hi ${name}`\n",
    "}\n",
    "```\n",
    "2. 나머지 매개변수\n",
    "  - 임의의 수의 인자를 '배열'로 허용하여 가변 인자를 나타내는 방법\n",
    "  - 매개변수가 인자개수보다 많아도 에러발생 없이 undefined로 할당하여 반환\n",
    "  - 인자개수가 매개변수보다 많으면 자바스크립트 내에서 남은 인자를 사용하지 않음\n",
    "```javascript\n",
    "const myFunc = function (param1, param2, ...restPrams) {\n",
    "  return [param1, param2, restPrams]\n",
    "}\n",
    "myFunc(1, 2, 3, 4, 5) // [1, 2, [3, 4, 5]]\n",
    "myFunc(1, 2) // [1, 2, []]\n",
    "```\n",
    "\n",
    "## '...' 전개구문\n",
    "- 배열이나 문자열과 같이 반복 가능한 항목을 펼치는 것(확장, 전개)\n",
    "- 전개 대상에 따라 역할이 다름\n",
    "\n",
    "### 전개 구문 활용처\n",
    "1. 함수와의 사용\n",
    "  1. 함수 호출 시 인자확장\n",
    "  2. 함수와의 사용\n",
    "\n",
    "## 화살표 함수 표현식\n",
    "- 함수 표현식의 간결한 표현법\n",
    "\n",
    "### 화살표 함수 작성결과"
   ]
  },
  {
   "cell_type": "code",
   "execution_count": null,
   "metadata": {
    "vscode": {
     "languageId": "javascript"
    }
   },
   "outputs": [],
   "source": [
    "const arrow = function (name) {\n",
    "  return `hello ${name}`\n",
    "}\n",
    "\n",
    "const arrows = name => `hello ${name}`"
   ]
  },
  {
   "cell_type": "markdown",
   "metadata": {},
   "source": [
    "## 객체(Object)\n",
    "- 키로 구분된 데이터 집합을 저장하는 자료형\n",
    "\n",
    "### 객체 구조\n",
    "- 중괄호를 이용해 작성\n",
    "- 중괄호 안에는 key: value 쌍으로 구성된 속성을 여러 개 작성 가능\n",
    "- key는 문자형만 허용\n",
    "- value는 모든 자료형 허용"
   ]
  },
  {
   "cell_type": "code",
   "execution_count": null,
   "metadata": {
    "vscode": {
     "languageId": "javascript"
    }
   },
   "outputs": [],
   "source": [
    "const user = {\n",
    "  name : 'Alice', // 문자형\n",
    "  'ket with space': true, // boolean\n",
    "  greeting: function () { // 함수\n",
    "    return 'hello'\n",
    "  }\n",
    "}"
   ]
  },
  {
   "cell_type": "markdown",
   "metadata": {},
   "source": [
    "### 속성 참조\n",
    "- 점 또는 대괄호로 객체요소 접근\n",
    "- key 이름에 띄어쓰기같은 구분자가 있으면 대괄호로만 접근 가능"
   ]
  },
  {
   "cell_type": "code",
   "execution_count": null,
   "metadata": {
    "vscode": {
     "languageId": "javascript"
    }
   },
   "outputs": [],
   "source": [
    "//조회\n",
    "console.log(user.name)\n",
    "console.log(user['key with space'])\n",
    "\n",
    "// 추가\n",
    "user.address = 'korea'\n",
    "// 삭제\n",
    "delete user.name"
   ]
  },
  {
   "cell_type": "markdown",
   "metadata": {},
   "source": [
    "### in 연산자\n",
    "- 속성이 객체에 존재하는지 여부를 확인\n",
    "\n",
    "## 객체와 함수\n",
    "\n",
    "### Method\n",
    "- 객체 속성에 정의된 함수\n",
    "- object.method() 방식으로 호출\n",
    "\n",
    "### this\n",
    "- 단순호출시 전역객체, 메서드 호출시 메서드를 호출한 객체를 가리킴"
   ]
  },
  {
   "cell_type": "code",
   "execution_count": null,
   "metadata": {
    "vscode": {
     "languageId": "javascript"
    }
   },
   "outputs": [],
   "source": [
    "const person = {\n",
    "  name: 'Alice',\n",
    "  greeting: function () {\n",
    "    return `Hello my name is ${this.name}`\n",
    "  },\n",
    "}\n",
    "console.log(person.greeting())"
   ]
  },
  {
   "cell_type": "markdown",
   "metadata": {},
   "source": [
    "# JSON\n",
    "- JavaScript Object Notation\n",
    "- 키 - 밸류값으로 이루어진 자료 표기법\n",
    "- 형식이 있는 문자열\n",
    "- javascript에서 JSON 을 사용하기 위해서는 Object자료형으로 변경해야 함\n",
    "\n",
    "# 배열\n",
    "\n",
    "## Array\n",
    "- 순서가 있는 데이터 집합을 저장하는 자료구조\n",
    "\n",
    "## 배열구조\n",
    "- 대괄호를 이용해 작성\n",
    "- 요소 자료형 : 제약 없음\n",
    "- length 속성을 사용해 배열에 담긴 요소가 몇 개인지 알 수 있음\n",
    "\n",
    "## 배열 메서드\n",
    "- push / pop : 배열 끝 요소를 추가/제거\n",
    "- unshift / shift : 배열 앞 요소를 추가/제거 \n",
    "\n",
    "## Array helper methods\n",
    "- 배열 조작을 쉽개 만들어주는 메서드\n",
    "- 배열의 각 요소를 순회하며 각 요소에 대해 함수를 호출\n",
    "- 콜백 함수\n",
    "  - 다른 함수에 인자로 전달되는 함수\n",
    "  \n",
    "### forEach()\n",
    "- 배열의 각 요소를 반복하면서 모든 요소에 대해 함수를 호출\n",
    "```javascript\n",
    "arrow.forEach(callback(item[, index[. array]]))\n",
    "```\n",
    "- 콜백함수는 3가지 매개변수로 구성\n",
    "  1. item : 처리할 배열의 요소\n",
    "  2. index : 처리할 배열 요소의 인덱스\n",
    "  3. array : forEach를 호출한 배열\n",
    "\n",
    "- 반환 값\n",
    "  - undefined\n",
    "\n",
    "### map()\n",
    "- 배열의 모든 요소에 대해 함수를 호출하고, 반환 된 호출 결과 값을 모아 새로운 배열을 반환\n",
    "```javascript\n",
    "arr.map(callback(item[, index[, array]]))\n",
    "```\n",
    "- forEach의 매개변수와 동일\n",
    "- 반환값\n",
    "\n",
    "### 기타 Array helper methods\n",
    "- filter\n",
    "- find\n",
    "- some\n",
    "- every"
   ]
  }
 ],
 "metadata": {
  "language_info": {
   "name": "python"
  }
 },
 "nbformat": 4,
 "nbformat_minor": 2
}
