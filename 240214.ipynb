{
 "cells": [
  {
   "cell_type": "markdown",
   "metadata": {},
   "source": [
    "# 240214\n",
    "\n",
    "## 부분집합"
   ]
  },
  {
   "cell_type": "code",
   "execution_count": null,
   "metadata": {},
   "outputs": [],
   "source": [
    "# 부분집합의 원소의 합이 t인 부분집합 구하기\n",
    "\n",
    "def f(i, k, t): # k 개의 원소를 가진 배열A, 부분집합 합이 t인 경우를 찾기\n",
    "    if i == k:  # 모든 원소에 대해 결정하면\n",
    "        ss = 0  # 부분집합의 합\n",
    "        for j in range(k):\n",
    "            if bit[j]:  # A[i]가 포함된 경우\n",
    "                ss += A[j]\n",
    "        if ss == t:\n",
    "            for j in range(k):\n",
    "                if bit[j]:\n",
    "                    print(A[j], end = ' ')\n",
    "            print()\n",
    "    else:\n",
    "        bit[i] = 1\n",
    "        f(i+1, k, t)\n",
    "        bit[i] = 0\n",
    "        f(i+1, k, t)\n",
    "\n",
    "N = 10\n",
    "A = [1, 2, 3, 4, 5, 6, 7, 8, 9, 10]\n",
    "bit = [0] * N   # bit[i]는 A[i]가 부분집합에 포함되는지 표시\n",
    "f(0, N, 10)"
   ]
  },
  {
   "cell_type": "code",
   "execution_count": 1,
   "metadata": {},
   "outputs": [
    {
     "name": "stdout",
     "output_type": "stream",
     "text": [
      "1 2 3 4 \n",
      "1 2 7 \n",
      "1 3 6 \n",
      "1 4 5 \n",
      "1 9 \n",
      "2 3 5 \n",
      "2 8 \n",
      "3 7 \n",
      "4 6 \n",
      "10 \n"
     ]
    }
   ],
   "source": [
    "# 경우의 수를 줄이려면,\n",
    "\n",
    "def f(i, k, s, t): # k 개의 원소를 가진 배열A, 부분집합 합이 t인 경우를 찾기\n",
    "    if s == t:  # 목표값이면\n",
    "        for j in range(k):\n",
    "            if bit[j]:\n",
    "                print(A[j], end = ' ')\n",
    "        print()\n",
    "    elif i == k:    # 모든 원소 고려했으나 s != t\n",
    "        return\n",
    "    elif s > t:     # 고려한 원소의 합이 t보다 큰 경우\n",
    "        return\n",
    "    else:\n",
    "        for j in range(1, -1, -1):\n",
    "            bit[i] = j\n",
    "            f(i+1, k, s+A[i]*j, t)\n",
    "        # bit[i] = 1\n",
    "        # f(i+1, k, s+A[i], t)\n",
    "        # bit[i] = 0\n",
    "        # f(i+1, k, s, t)\n",
    "\n",
    "N = 10\n",
    "A = [1, 2, 3, 4, 5, 6, 7, 8, 9, 10]\n",
    "bit = [0] * N   # bit[i]는 A[i]가 부분집합에 포함되는지 표시\n",
    "f(0, N, 0, 10)"
   ]
  },
  {
   "cell_type": "markdown",
   "metadata": {},
   "source": [
    "## 순열\n"
   ]
  },
  {
   "cell_type": "code",
   "execution_count": null,
   "metadata": {},
   "outputs": [],
   "source": [
    "# 배열의 각 행에서 하나의 숫자를 골라 그 수의 합이 최소가 되는 경우\n",
    "\n",
    "def f(i, k):\n",
    "    global min_v\n",
    "    if i == k:\n",
    "        # print(*P)\n",
    "        s = 0   # 선택한 원소의 합\n",
    "        for j in range(k):\n",
    "            s += arr[j][P[j]]   # j행에서 P[j]열을 고른 경우의 합\n",
    "        if min_v > s:\n",
    "            min_v = s\n",
    "    else:\n",
    "        for j in range(i, k):    # P[i] 자리에 올 원소 P[j]\n",
    "            P[i], P[j] = P[j], P[i]       # P[i] <-> P[j]\n",
    "            f(i+1, k)\n",
    "            P[i], P[j] = P[j], P[i]     # 교환전으로 복구\n",
    "\n",
    "N = int(input())\n",
    "arr = [list(map(int, input().split())) for _ in range(N)]\n",
    "P = [i for i in range(N)]\n",
    "min_v = 100\n",
    "f(0, N)\n",
    "print(min_v)"
   ]
  },
  {
   "cell_type": "code",
   "execution_count": null,
   "metadata": {},
   "outputs": [],
   "source": [
    "# 백트래킹을 이용한 가지치기로 코드길이 감소\n",
    "\n",
    "def f(i, k, s): # i-1 까지 선택한 원소의 합\n",
    "    global min_v\n",
    "    if i == k:\n",
    "        # print(*P)\n",
    "        if min_v > s:\n",
    "            min_v = s\n",
    "    elif s >= min_v:\n",
    "        return\n",
    "    else:\n",
    "        for j in range(i, k):    # P[i] 자리에 올 원소 P[j]\n",
    "            P[i], P[j] = P[j], P[i]       # P[i] <-> P[j]\n",
    "            f(i+1, k, s+arr[i][P[i]])\n",
    "            P[i], P[j] = P[j], P[i]     # 교환전으로 복구\n",
    "\n",
    "N = int(input())\n",
    "arr = [list(map(int, input().split())) for _ in range(N)]\n",
    "P = [i for i in range(N)]\n",
    "min_v = 100\n",
    "f(0, N, 0)\n",
    "print(min_v)"
   ]
  }
 ],
 "metadata": {
  "kernelspec": {
   "display_name": "Python 3",
   "language": "python",
   "name": "python3"
  },
  "language_info": {
   "codemirror_mode": {
    "name": "ipython",
    "version": 3
   },
   "file_extension": ".py",
   "mimetype": "text/x-python",
   "name": "python",
   "nbconvert_exporter": "python",
   "pygments_lexer": "ipython3",
   "version": "3.9.13"
  }
 },
 "nbformat": 4,
 "nbformat_minor": 2
}
