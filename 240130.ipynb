{
 "cells": [
  {
   "cell_type": "markdown",
   "metadata": {},
   "source": [
    "# 240130"
   ]
  },
  {
   "cell_type": "markdown",
   "metadata": {},
   "source": [
    "# 카운팅 정렬\n",
    "> 항목들의 순서를 결정하기 위해 집합에 각 항목이 몇 개씩 있는지 세는 작업을 하여 선형 시간에 정렬하는 효율적인 알고리즘\n",
    "\n",
    "- 제한사항\n",
    "    - 정수나 정수로 표현할 수 있는 자료에 대해서만 적용 가능, 각 항목의 발생 회수를 기록하기 위해, 정수 항목으로 인덱스 되는 카운트들의 배열을 사용하기 때문이다.\n",
    "    - 카운트들을 위한 충분한 공간을 할당하려면 집합내의 가장 큰 정수를 알아야 한다.\n",
    "\n",
    "- 시간 복잡도\n",
    "    - O(n + k) : n은 리스트 길이, k는 정수의 최대값"
   ]
  },
  {
   "cell_type": "code",
   "execution_count": 10,
   "metadata": {},
   "outputs": [
    {
     "name": "stdout",
     "output_type": "stream",
     "text": [
      "2 2 3 4 5 7\n"
     ]
    }
   ],
   "source": [
    "N = 6\n",
    "K = 9\n",
    "data = [7, 2, 4, 5, 2, 3] # 0~9\n",
    "count = [0] * (K+1)\n",
    "temp = [0] * N\n",
    "\n",
    "#count 배열에 기록\n",
    "for a in data:\n",
    "    count[a] += 1\n",
    "\n",
    "# count 누적합 구하기\n",
    "for b in range (1, K+1):\n",
    "    count[b] = count[b - 1] + count[b]\n",
    "\n",
    "# data의 마지막 원소부터 정렬\n",
    "for c in range(N-1, -1, -1):\n",
    "    count[data[c]] -= 1\n",
    "    temp[count[data[c]]] = data[c]\n",
    "print(*temp)\n"
   ]
  },
  {
   "cell_type": "markdown",
   "metadata": {},
   "source": [
    "## Babygin 게임\n",
    "\n",
    "### 완전검색 방법은 문재의 해법으로 생각할 수 있는 모든 경우의 수를 나열해보고 확인하는 기법이다\n",
    "- 수행속도가 느릴 가능성이 크지만 해답을 찾아내지 못할 확률이 작다.\n",
    "- 모든 경우를 테스트한 후, 최종 해법에 도달한다.\n",
    "- 문제를 풀 때, 우선 완전검색으로 접근하여 해답을 도출한 후 성능 개선을 위해 다른 알고리즘을  사용하고 해답을 확인하는 것이 바람직하다.\n",
    "\n",
    "### 순열\n",
    "- 서로 다른 것들 중 몇 개를 뽑아서 한 줄로 나열하는 것\n",
    "- nPr = n * (n-1) * ... * (n-r+1)\n",
    "\n",
    "### 탐욕 알고리즘\n",
    "- 탐욕 알고리즘은 최적해를 구하는 데 사용되는 근시안적인 방법\n",
    "- 여러 경우 중 하나를 결정해야 할 때마다 그 순간에 최적이라고 생각되는 것을 선택해 나가는 방식으로 진행하여 최종적인 해답에 도달한다.\n",
    "- 근데 그게 최적이라는 보장은 없다.\n",
    "- 보통 머릿속에서 떠오르는 생각을 검증없이 바로 구현하면 greedy 적인 접근이 된다."
   ]
  },
  {
   "cell_type": "code",
   "execution_count": 12,
   "metadata": {},
   "outputs": [
    {
     "name": "stdout",
     "output_type": "stream",
     "text": [
      "Lose\n"
     ]
    }
   ],
   "source": [
    "num = 412451 # Babygin 확인할 6자리 수\n",
    "c = [0] * 12 # 여분의 메모리 추가\n",
    "\n",
    "for i in range(6):\n",
    "    c[num % 10] += 1\n",
    "    num //= 10\n",
    "\n",
    "i = 0\n",
    "tri = run = 0\n",
    "while i < 10:\n",
    "    if c[i] >= 3:\n",
    "        c[i] -= 3\n",
    "        tri += 1\n",
    "        continue\n",
    "    if c[i] >= 1 and c[i + 1] >= 1 and c[i+2] >= 1:\n",
    "        c[i] -= 1\n",
    "        c[i+1] -= 1\n",
    "        c[i+2] -= 1\n",
    "        run += 1\n",
    "        continue\n",
    "    i += 1\n",
    "\n",
    "if run + tri == 2:\n",
    "    print('Baby Gin')\n",
    "else:\n",
    "    print('Lose')"
   ]
  }
 ],
 "metadata": {
  "kernelspec": {
   "display_name": "Python 3",
   "language": "python",
   "name": "python3"
  },
  "language_info": {
   "codemirror_mode": {
    "name": "ipython",
    "version": 3
   },
   "file_extension": ".py",
   "mimetype": "text/x-python",
   "name": "python",
   "nbconvert_exporter": "python",
   "pygments_lexer": "ipython3",
   "version": "3.9.13"
  }
 },
 "nbformat": 4,
 "nbformat_minor": 2
}
