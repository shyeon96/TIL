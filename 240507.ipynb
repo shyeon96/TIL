{
 "cells": [
  {
   "cell_type": "markdown",
   "metadata": {},
   "source": [
    "# Props\n",
    "> 부모 컴포넌트로부터 자식 컴포넌트로 데이터를 전달하는데 사용되는 속성\n",
    "\n",
    "## Props 특징\n",
    "- 부모속성이 업데이트 되면 자식으로 전달되지만 반대는 안됨\n",
    "- 부모 컴포넌트가 업데이트 될 때마다 자식컴포넌트의 모든 props가 최신 값으로 업데이트 됨\n",
    "> 부모 컴포넌트에서만 변경하고 이를 내려받는 자식 컴포넌트는 자연스럽게 갱신"
   ]
  }
 ],
 "metadata": {
  "language_info": {
   "name": "python"
  }
 },
 "nbformat": 4,
 "nbformat_minor": 2
}
