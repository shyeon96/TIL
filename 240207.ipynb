{
 "cells": [
  {
   "cell_type": "markdown",
   "metadata": {},
   "source": [
    "# 240207\n",
    "\n",
    "## 스택\n",
    "\n",
    "### 스택의 특성\n",
    "- 물건을 쌓아 올리듯 자료를 쌓아 올린 형태의 자료구조이다.\n",
    "- 스택에 저장된 사료는 선형 구조를 갖는다.\n",
    "    - 선형구조 : 자료 간의 관계가 1대1의 관계를 갖는다.\n",
    "    - 비선형구조 : 자료 간의 관계가 1대 N의 관계를 갖는다.\n",
    "- 스택에 자료를 삽입하거나 스택에서 자료를 꺼낼 수 있다.\n",
    "- 마지막에 삽입한 자료를 가장 먼저 꺼낸다. (후입선출)\n",
    "\n",
    "### 스택의 구현\n",
    "> 스택을 프로그램에서 구현하기 위해서 필요한 자료구조와 연산  \n",
    "- 자료구조 : 자료를 선형으로 저장할 저장소\n",
    "    - 배열을 사용할 수 있다\n",
    "    - 저장소 자체를 스택이라 부르기도 한다\n",
    "    - 스택에서 마지막 삽입된 원소의 위치를 top이라 부른다\n",
    "- 연산\n",
    "    - 삽입: 저장소에서 자료를 저장한다. 보통 push라고 부른다.\n",
    "    - 삭제: 저장소에서 자료를 꺼낸다. 꺼낸 자료는 삽입한 자료의 역순이다.\n",
    "    보통 pop이라고 부른다.  \n",
    "    - 스택이 공백인지 아닌지를 확인하는 연산. isEmpty\n",
    "    - 스택의 top에 있는 item을 반환하는 연산. peek\n",
    "\n",
    "### 스택 구현 고려 사항\n",
    "> 1차원 배열을 사용하여 구현할 경우 구현이 용이하다는 장점이 있지만 스택의 크기를 변경하기가 어렵다는 단점이 있다.  \n",
    "\n"
   ]
  },
  {
   "cell_type": "code",
   "execution_count": 1,
   "metadata": {},
   "outputs": [],
   "source": [
    "# 스택의 구현\n",
    "def push(item, size):\n",
    "    global top\n",
    "    top += 1\n",
    "    if top == size:\n",
    "        print('overflow!')\n",
    "    else:\n",
    "        stack[top] = item\n",
    "\n",
    "size = 10\n",
    "stack = [0] * size\n",
    "top = -1\n",
    "\n",
    "push(10, size)\n",
    "top += 1\n",
    "stack[top] = 20"
   ]
  },
  {
   "cell_type": "code",
   "execution_count": null,
   "metadata": {},
   "outputs": [],
   "source": [
    "def pop():\n",
    "    global top\n",
    "    if top == -1:\n",
    "        print('underflow')\n",
    "        return 0\n",
    "    else:\n",
    "        top -= 1\n",
    "        return stack[top+1]\n",
    "\n",
    "print(pop())\n",
    "\n",
    "if top > -1:\n",
    "    top -= 1\n",
    "    print(stack[top + 1])"
   ]
  },
  {
   "cell_type": "code",
   "execution_count": 2,
   "metadata": {},
   "outputs": [
    {
     "name": "stdout",
     "output_type": "stream",
     "text": [
      "30\n",
      "20\n",
      "10\n"
     ]
    }
   ],
   "source": [
    "def push(n):\n",
    "    global top\n",
    "    top += 1\n",
    "    if top == size:\n",
    "        print('overflow!')\n",
    "    else:\n",
    "        stack[top] = n\n",
    "\n",
    "top = -1\n",
    "size = 10\n",
    "stack = [0] * size    # 최대 10개 push\n",
    "\n",
    "top += 1            # push(10)\n",
    "stack[top] = 10\n",
    "top += 1            # push(20)\n",
    "stack[top] = 20\n",
    "\n",
    "push(30)\n",
    "\n",
    "while top >= 0:\n",
    "    top -= 1\n",
    "    print(stack[top+1])"
   ]
  },
  {
   "cell_type": "code",
   "execution_count": null,
   "metadata": {},
   "outputs": [],
   "source": [
    "def f1(c,d):\n",
    "    e = c+d\n",
    "    f2(e)\n",
    "\n",
    "def f2(n):\n",
    "    n *= 2\n",
    "    print(n)\n",
    "\n",
    "a = 10\n",
    "b = 20\n",
    "c = a + b\n",
    "f1(a + b)"
   ]
  },
  {
   "cell_type": "markdown",
   "metadata": {},
   "source": [
    "## 재귀호출\n",
    "> 필요한 함수가 자신과 같은 경우 자신을 다시 호출하는 구조  \n",
    "> 함수에서 실행해야 하는 작업의 특성에 따라 일반적인 호출방식보다 재귀호출방식을 사용하여 함수를 만들면 프로그램의 크기를 줄이고 간단하게 작성"
   ]
  },
  {
   "cell_type": "code",
   "execution_count": null,
   "metadata": {},
   "outputs": [],
   "source": [
    "# 피보나치 수열\n",
    "def fibo(n):\n",
    "    if n < 2:\n",
    "        return n \n",
    "    else:\n",
    "        return fibo(n-1) + fibo(n-2)"
   ]
  },
  {
   "cell_type": "code",
   "execution_count": 3,
   "metadata": {},
   "outputs": [
    {
     "name": "stdout",
     "output_type": "stream",
     "text": [
      "10\n",
      "20\n",
      "30\n"
     ]
    }
   ],
   "source": [
    "def f(i, k):     # i : 현재위치, k : 목표\n",
    "    if i == k:\n",
    "        print(brr)\n",
    "    else:\n",
    "        brr[i] = arr[i]\n",
    "        f(i+1, k)\n",
    "    \n",
    "arr = [10, 20, 30]\n",
    "N = len(arr)\n",
    "brr = [0] * N\n",
    "f(0, N)"
   ]
  },
  {
   "cell_type": "markdown",
   "metadata": {},
   "source": [
    "## Memorization\n",
    "> 컴퓨터 프로그램을 실행할 때 이전에 계산한 값을 메모리에 저장해서 매번 다시 계산하지 않도록 하여 전체적인 실행속도를 빠르게 하는 기술이다."
   ]
  },
  {
   "cell_type": "code",
   "execution_count": 6,
   "metadata": {},
   "outputs": [
    {
     "ename": "TypeError",
     "evalue": "'function' object is not subscriptable",
     "output_type": "error",
     "traceback": [
      "\u001b[1;31m---------------------------------------------------------------------------\u001b[0m",
      "\u001b[1;31mTypeError\u001b[0m                                 Traceback (most recent call last)",
      "Cell \u001b[1;32mIn[6], line 22\u001b[0m\n\u001b[0;32m     20\u001b[0m memo[\u001b[38;5;241m0\u001b[39m] \u001b[38;5;241m=\u001b[39m \u001b[38;5;241m0\u001b[39m\n\u001b[0;32m     21\u001b[0m memo[\u001b[38;5;241m1\u001b[39m] \u001b[38;5;241m=\u001b[39m \u001b[38;5;241m1\u001b[39m\n\u001b[1;32m---> 22\u001b[0m \u001b[38;5;28mprint\u001b[39m(\u001b[43mfibo_memo\u001b[49m\u001b[43m(\u001b[49m\u001b[43mn\u001b[49m\u001b[43m)\u001b[49m, cnt)\n",
      "Cell \u001b[1;32mIn[6], line 12\u001b[0m, in \u001b[0;36mfibo_memo\u001b[1;34m(n)\u001b[0m\n\u001b[0;32m     10\u001b[0m cnt \u001b[38;5;241m+\u001b[39m\u001b[38;5;241m=\u001b[39m \u001b[38;5;241m1\u001b[39m\n\u001b[0;32m     11\u001b[0m \u001b[38;5;28;01mif\u001b[39;00m n \u001b[38;5;241m!=\u001b[39m \u001b[38;5;241m0\u001b[39m \u001b[38;5;129;01mand\u001b[39;00m memo[n] \u001b[38;5;241m==\u001b[39m \u001b[38;5;241m0\u001b[39m:\n\u001b[1;32m---> 12\u001b[0m     memo[n] \u001b[38;5;241m=\u001b[39m \u001b[43mfibo_memo\u001b[49m\u001b[43m[\u001b[49m\u001b[43mn\u001b[49m\u001b[38;5;241;43m-\u001b[39;49m\u001b[38;5;241;43m1\u001b[39;49m\u001b[43m]\u001b[49m \u001b[38;5;241m+\u001b[39m fibo_memo[n\u001b[38;5;241m-\u001b[39m\u001b[38;5;241m2\u001b[39m]\n\u001b[0;32m     13\u001b[0m     \u001b[38;5;28;01mreturn\u001b[39;00m memo[n]\n",
      "\u001b[1;31mTypeError\u001b[0m: 'function' object is not subscriptable"
     ]
    }
   ],
   "source": [
    "def fibo(n):\n",
    "    if n < 2:\n",
    "        return n\n",
    "    else:\n",
    "        return fibo(n-1) + fibo(n-2)\n",
    "\n",
    "def fibo_memo(n):\n",
    "    global cnt\n",
    "    global memo\n",
    "    cnt += 1\n",
    "    if n != 0 and memo[n] == 0:\n",
    "        memo[n] = fibo_memo[n-1] + fibo_memo[n-2]\n",
    "        return memo[n]\n",
    "    \n",
    "\n",
    "cnt = 0\n",
    "n = 7\n",
    "# print(fibo(n), cnt)\n",
    "memo = [0]*(n+1)\n",
    "memo[0] = 0\n",
    "memo[1] = 1\n",
    "print(fibo_memo(n), cnt)"
   ]
  }
 ],
 "metadata": {
  "kernelspec": {
   "display_name": "Python 3",
   "language": "python",
   "name": "python3"
  },
  "language_info": {
   "codemirror_mode": {
    "name": "ipython",
    "version": 3
   },
   "file_extension": ".py",
   "mimetype": "text/x-python",
   "name": "python",
   "nbconvert_exporter": "python",
   "pygments_lexer": "ipython3",
   "version": "3.9.13"
  }
 },
 "nbformat": 4,
 "nbformat_minor": 2
}
