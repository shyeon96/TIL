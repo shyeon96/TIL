{
 "cells": [
  {
   "cell_type": "markdown",
   "metadata": {},
   "source": [
    "# 240215\n",
    "\n",
    "## 큐\n",
    "\n",
    "### 큐의 특성\n",
    "- 스택과 마찬가지로 삽입과 삭제의 위치가 제한적인 자료구조\n",
    "    - 큐의 뒤에서는 삽입만 하고 큐의 앞에서는 삭제만 이루어지는 구조\n",
    "- 선입 선출 구조\n",
    "    - 스택과의 차이점 (스택은 후입선출 얘는 선입선출)\n",
    "\n",
    "### 큐의 기본 연산\n",
    "- 머리(Front) : 저장된 원소 중 첫번 째 원소\n",
    "- 꼬리(Rear) : 저장된 원소 중 마지막 원소\n",
    "- 삽입 : enQueue\n",
    "- 삭제 : deQueue\n",
    "- 공백 상태의 큐 생성 : createQueue\n",
    "- 큐가 공백인지 확인 : isEmpty\n",
    "- 큐가 포화인지 확인 : isFull\n",
    "- 큐의 앞쪽에서 원소를 삭제없이 반환 : Qpeek\n",
    "\n",
    "### 선형큐\n",
    "- 1차원 배열을 이용한 큐\n",
    "    - 큐의 크기 = 배열의 크기\n",
    "    - front: 저장된 첫 번째 원소의 인덱스 (마지막으로 삭제된 인덱스)\n",
    "    - rear: 저장된 마지막 원소의 인덱스\n",
    "\n",
    "- 상태 표현\n",
    "    - 초기상태 : front = rear = -1\n",
    "    - 공백상태 : front == rear\n",
    "    - 포화상태 : rear == n-1 (n 배열의 크기 n-1 배열의 마지막 인덱스)\n",
    "\n",
    "    "
   ]
  },
  {
   "cell_type": "code",
   "execution_count": null,
   "metadata": {},
   "outputs": [],
   "source": [
    "N = 10\n",
    "q = [0] * N\n",
    "front = rear = -1\n",
    "\n",
    "rear += 1   # enqueue(1)\n",
    "q[rear] = 1\n",
    "rear += 1   # enqueue(2)\n",
    "q[rear] = 2\n",
    "rear += 1   # enqueue(3)\n",
    "q[rear] = 3\n",
    "\n",
    "while front != rear:    # 큐가 비어있지않으면\n",
    "     front += 1         # dequeue()\n",
    "     print(q[front])"
   ]
  },
  {
   "cell_type": "markdown",
   "metadata": {},
   "source": [
    "### 원형큐\n",
    "- 1차원 배열을 사용하되, 논리적으로는 배열의 처음과 끝이 연결되어 원형형태의 큐를 이룬다고 가정하고 사용\n",
    "\n",
    "- 초기 공백상태\n",
    "    - front = rear = 0\n",
    "- index의 순환\n",
    "    - front 와 rear의 위치가 배열의 마지막 인덱스인n-1을 가리킨 후, 그 다음에는 논리적 순환을 이루어 배열의 처음 인덱스인 0으로 이동해야 함\n",
    "\n",
    "    - 연산자 mod사용\n",
    "\n",
    "- front 변수\n",
    "    - 공백상태와 포화상태 구분을 쉽게 하기 위해 front가 있는 자리는 사용하지 않고 항상 빈자리로 둠\n",
    "\n",
    "- 공백상태 : front == rear\n",
    "- 포화상태 : 삽입할 rear의 다음 위치 == 현재 front\n",
    "    - (rear + 1)mod n == front\n",
    "\n",
    "### 연결 큐\n",
    "- 단순 연결 리스트를 이용한 큐\n",
    "    - 큐의 원소 : 단순 연결 리스트의 노드\n",
    "    - 큐의 원소 순서: 노드의 연결 순서. 링크로 연결되어 있음\n",
    "    - front : 첫 번째 노드를 가리키는 링크\n",
    "    - rear : 마지막 노드를 가리키는 링크\n",
    "\n",
    "- 상태 표현\n",
    "    - 초기 상태 : front = rear = null\n",
    "    - 공백 상태 : front = rear = null\n",
    "\n",
    "### 참고. deque(덱)\n",
    "- 컨테이너 자료형 중 하나\n",
    "- 양쪽 끝에서 빠르게 추가와 삭제를 할 수 있는 리트르류 컨테이너\n",
    "\n",
    "- 연산\n",
    "    - append(x): 오른쪽에 x추가\n",
    "    - popleft() : 왼쪽에서 요소를 제거하고 반환. 요소가 없으면 에러"
   ]
  },
  {
   "cell_type": "code",
   "execution_count": 3,
   "metadata": {},
   "outputs": [
    {
     "name": "stdout",
     "output_type": "stream",
     "text": [
      "append\n",
      "end\n",
      "append\n",
      "end\n"
     ]
    }
   ],
   "source": [
    "# append , pop 과의 속도 차이\n",
    "from collections import deque\n",
    "\n",
    "q = []\n",
    "for i in range(100000):\n",
    "    q.append(i)\n",
    "print('append')\n",
    "while q:\n",
    "    q.pop(0)\n",
    "print('end')\n",
    "\n",
    "dq = deque()\n",
    "for i in range(1000000):\n",
    "    dq.append(i)\n",
    "print('append')\n",
    "while q:\n",
    "    dq.popleft()\n",
    "print('end')\n"
   ]
  },
  {
   "cell_type": "markdown",
   "metadata": {},
   "source": [
    "### 우선순위 큐\n",
    "- 우선순위 큐의 특성\n",
    "    - 우선순위를 가진 항목들을 저장하는 큐\n",
    "    - FIFO순서가 아니라 우선순위가 높은 순서대로 먼저 나가게 된다\n",
    "\n",
    "- 우선순위 큐의 적용 분야\n",
    "    - 시뮬레이션 시스템\n",
    "    - 네트워크 트래픽 제어\n",
    "    - 운영체제의 테스크 스케줄링\n",
    "\n",
    "- 우선순위 큐의 구현\n",
    "    - 배열을 이용한 우선순위 큐\n",
    "    - 리스트를 이용한 우선순위 큐\n",
    "\n",
    "- 배열을 이용하여 우선순위 큐 구현\n",
    "    - 원소를 삽입하는 과정에서 우선순위를 비교하여 적절한 위치에 삽입하는 구조\n",
    "    - 가장 앞에 최고 우선순위의 원소가 위치하게 됨\n",
    "\n",
    "### 버퍼\n",
    "- 데이터를 한 곳에서 다른 한 곳으로 전송하는 동안 일시적으로 그 데이터를 보관하는 메모리의 영역\n",
    "- 버퍼링 : 버퍼를 활용하는 방식 또는 버퍼를 채우는 동작을 의미한다\n",
    "\n",
    "- 버퍼의 자료구조\n",
    "    - 버퍼는 일반적으로 입출력 및 네트워크와 관련된 기능에서 이용된다\n",
    "    - 순서대로 입력/출력/전달되어야 하므로 FIFO 방식의 자료구조인 큐가 활용된다"
   ]
  }
 ],
 "metadata": {
  "kernelspec": {
   "display_name": "Python 3",
   "language": "python",
   "name": "python3"
  },
  "language_info": {
   "codemirror_mode": {
    "name": "ipython",
    "version": 3
   },
   "file_extension": ".py",
   "mimetype": "text/x-python",
   "name": "python",
   "nbconvert_exporter": "python",
   "pygments_lexer": "ipython3",
   "version": "3.9.13"
  }
 },
 "nbformat": 4,
 "nbformat_minor": 2
}
