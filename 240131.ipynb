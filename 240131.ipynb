{
 "cells": [
  {
   "cell_type": "markdown",
   "metadata": {},
   "source": [
    "# 240131"
   ]
  },
  {
   "cell_type": "markdown",
   "metadata": {},
   "source": [
    "# 2차원 배열\n",
    "> - 1차원 리스트를 묶어놓은 리스트  \n",
    "> - 2차원 이상의 다차원 리스트는 차원에 따라 인덱스를 선언\n",
    "> - 2차원 리스트의 선언: 세로길이, 가로길이를 필요로 함  \n",
    "> - 파이썬에서는 데이터 초기화를 통해 변수선언과 초기화가 가능함"
   ]
  },
  {
   "cell_type": "code",
   "execution_count": 1,
   "metadata": {},
   "outputs": [],
   "source": [
    "# N = 3\n",
    "'''1 2 3\n",
    "   4 5 6\n",
    "   7 8 9\n",
    "'''\n",
    "N = int(input())\n",
    "arr = [list(map(int, input().split())) for _ in range(N)]\n",
    "\n",
    "# 1 2 3 사이의 간격을 없애고 싶다면\n",
    "arr = [list(map(int, input())) for _ in range(N)]"
   ]
  },
  {
   "cell_type": "markdown",
   "metadata": {},
   "source": [
    "## 배열 순회\n",
    "> n * m배열의 n*m개의 모든 원소를 빠짐없이 조사하는 방법"
   ]
  },
  {
   "cell_type": "code",
   "execution_count": null,
   "metadata": {},
   "outputs": [],
   "source": [
    "# i : 행의 좌표\n",
    "# j : 열의 좌표\n",
    "for i in range(n):\n",
    "    for j in range(m):\n",
    "        # 연산 수행"
   ]
  },
  {
   "cell_type": "markdown",
   "metadata": {},
   "source": [
    "## 자그재그 순회\n",
    "> 1 2 3 4  \n",
    "> 5 6 7 8    \n",
    "> 9 10 11 12  \n",
    "> 에서 1 2 3 4 8 7 6 5 9 10 11 12 순서로 순회하려면"
   ]
  },
  {
   "cell_type": "code",
   "execution_count": null,
   "metadata": {},
   "outputs": [],
   "source": [
    "for i in range(n):\n",
    "    for j in range(m):\n",
    "        f(array[i][j + (m-1-2*j) * (i%2)])"
   ]
  },
  {
   "cell_type": "markdown",
   "metadata": {},
   "source": [
    "## 델타를 이용한 2차 배열 탐색\n",
    "- 2차 배열의 한 좌표에서 4방향의 인접 배열 요소를 탐색하는 방법\n",
    "- 인덱스 (i,j)인 칸의 상하좌우 칸 (ni, nj)"
   ]
  },
  {
   "cell_type": "code",
   "execution_count": null,
   "metadata": {},
   "outputs": [],
   "source": [
    "di = [0, 1, 0, -1]\n",
    "dj = [1, 0, -1, 0]\n",
    "i = 3\n",
    "j = 4\n",
    "N = 5\n",
    "arr = [[0]*N for _ in range(N)]\n",
    "for i in range(N):\n",
    "    for j in range(N):\n",
    "        for k in range(4):\n",
    "            ni = i + di[k]\n",
    "            nj = j + dj[k]\n",
    "            if 0 <= ni < N and 0 <= nj < N:\n",
    "                print (arr[ni][nj], end = ' ')\n",
    "        print()"
   ]
  },
  {
   "cell_type": "markdown",
   "metadata": {},
   "source": [
    "## 전치 행렬"
   ]
  },
  {
   "cell_type": "code",
   "execution_count": null,
   "metadata": {},
   "outputs": [],
   "source": [
    "# i : 행의 좌표, len(arr)\n",
    "# j : 열의 좌표, len(arr[0])\n",
    "arr = [[1,2,3],[4,5,6],[7,8,9]] # 3*3 행렬\n",
    "\n",
    "for i in range(3):\n",
    "    for j in range(3):\n",
    "        if i < j:   # 절반에 대해서만 바꿔야한다\n",
    "            arr[i][j], arr[j][i] = arr[j][i], arr[i][j]"
   ]
  },
  {
   "cell_type": "markdown",
   "metadata": {},
   "source": [
    "## 부분집합 문제\n",
    "\n",
    "### 부분집합의 수\n",
    "- 집합의 원소가 n개일 때, 공집합을 포함한 부분집합의 수는 2^n개이다.  \n",
    "- 이는 각 원소를 부분집합에 포함시키거나 포함시키지 않는 2가지 경우를 모든 원소에 적용한 경우의 수와 같다."
   ]
  },
  {
   "cell_type": "code",
   "execution_count": 2,
   "metadata": {},
   "outputs": [
    {
     "name": "stdout",
     "output_type": "stream",
     "text": [
      "[0, 0, 0, 0]\n",
      "[0, 0, 0, 1]\n",
      "[0, 0, 1, 0]\n",
      "[0, 0, 1, 1]\n",
      "[0, 1, 0, 0]\n",
      "[0, 1, 0, 1]\n",
      "[0, 1, 1, 0]\n",
      "[0, 1, 1, 1]\n",
      "[1, 0, 0, 0]\n",
      "[1, 0, 0, 1]\n",
      "[1, 0, 1, 0]\n",
      "[1, 0, 1, 1]\n",
      "[1, 1, 0, 0]\n",
      "[1, 1, 0, 1]\n",
      "[1, 1, 1, 0]\n",
      "[1, 1, 1, 1]\n"
     ]
    }
   ],
   "source": [
    "bit = [0,0,0,0]\n",
    "for i in range(2):\n",
    "    bit[0] = i\n",
    "    for j in range(2):\n",
    "        bit[1] = j\n",
    "        for k in range(2):\n",
    "            bit[2] = k\n",
    "            for l in range(2):\n",
    "                bit[3] = l\n",
    "                print(bit)"
   ]
  },
  {
   "cell_type": "markdown",
   "metadata": {},
   "source": [
    "## 비트 연산자\n",
    "> '&' : 비트단위로 AND 연산  \n",
    "> '|' : 비트단위로 OR 연산  \n",
    "> '<<' : 피연산자의 비트 열을 왼쪽으로 이동시킨다  \n",
    "> '>>' : 피연산자의 비트 열을 오른쪽으로 이동시킨다\n",
    "\n",
    "### << 연산자\n",
    "- 1 << n : 2^n 즉, 원소가 n개일 경우의 모든 부분집합의 수를 의미한다\n",
    "\n",
    "### & 연산자\n",
    "- i & ( 1<<j ) : i의 j번째 비트가 1인지 아닌지를 검사한다"
   ]
  },
  {
   "cell_type": "code",
   "execution_count": null,
   "metadata": {},
   "outputs": [],
   "source": [
    "# 비트연산자로 부분집합 만들기\n",
    "arr =[1,2,3]\n",
    "n = len(arr)\n",
    "\n",
    "for i in range(1<<n):   # 2^n만큼 반복\n",
    "    for j in range(n):\n",
    "        if i & (1<<j):\n",
    "            print(arr[j], end = ' ')\n",
    "    print()\n",
    "\n",
    "# 부분집합의 합을 반환하기\n",
    "n = int(input())\n",
    "arr = list(map(int, input().split()))\n",
    "\n",
    "def f(arr, n):\n",
    "    for i in range(1,1 << n):   # 2^n만큼 반복\n",
    "        s = 0\n",
    "        for j in range(n):\n",
    "            if i & (1<<j):\n",
    "                s += arr[j]\n",
    "        #         print(arr[j], end = ' ')\n",
    "        # print()\n",
    "        if s == 0:\n",
    "            return True\n",
    "    return False\n",
    "print (f(arr,n))"
   ]
  },
  {
   "cell_type": "markdown",
   "metadata": {},
   "source": [
    "# 연습문제 1-1"
   ]
  },
  {
   "cell_type": "code",
   "execution_count": null,
   "metadata": {},
   "outputs": [],
   "source": [
    "# 5 X 5 2차 배열의 대각선 원소의 합\n",
    "\n",
    "test = [list(map(int, input().split())) for _ in range(5)]\n",
    "# test = [[0]*5 for _ in range(5)]\n",
    "sum1 = 0\n",
    "for a in range(5):\n",
    "    sum1 += test[a][a]\n",
    "for b in range(5):\n",
    "    sum1 += test[b][4-b]\n",
    "sum1 -= test[2][2]\n",
    "\n",
    "print(sum1)"
   ]
  }
 ],
 "metadata": {
  "kernelspec": {
   "display_name": "Python 3",
   "language": "python",
   "name": "python3"
  },
  "language_info": {
   "codemirror_mode": {
    "name": "ipython",
    "version": 3
   },
   "file_extension": ".py",
   "mimetype": "text/x-python",
   "name": "python",
   "nbconvert_exporter": "python",
   "pygments_lexer": "ipython3",
   "version": "3.9.13"
  }
 },
 "nbformat": 4,
 "nbformat_minor": 2
}
