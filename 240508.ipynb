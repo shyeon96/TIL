{
 "cells": [
  {
   "cell_type": "markdown",
   "metadata": {},
   "source": [
    "# Routing\n",
    "> 네트워크에서 경로를 선택하는 프로세스\n",
    "- SSR에서의 Routing\n",
    "    - 사용자가 방문한 URL 경로를 기반으로 응답을 전송\n",
    "    - 링크를 클릭하면 브라우저는 서버로부터 HTML 응답을 수신하고 새 HTML로 전체 페이지를 다시 로드\n",
    "\n",
    "- CSR에서의 Routing\n",
    "    - CSR에서 routing은 클라이언트 측에서 수행\n",
    "    - 클라이언트 측 JavaScript가 새 데이터를 동적으로 가져와 전체 페이지를 다시 로드하지 않음\n",
    "\n",
    "- SPA에서 Routing이 없다면\n",
    "    - 유저가 URL을 통한 페이지의 변화를 감지할 수 없음\n",
    "    - 브라우저의 뒤로가기 기능을 사용할 수 없음\n",
    "    - 페이지가 무엇을 렌더링 중인지에 대한 상태를 알 수 없음\n",
    "\n",
    "# Vue Router\n",
    "> 시작할 때 router기능 Yes 클릭  \n",
    "Vue Router 공식 홈페이지 참고\n",
    "\n",
    "# Named Routes\n",
    "> 경로에 이름을 지정하는 라우팅\n",
    "\n",
    "# Nested Routed\n",
    "> 중첩된 라우팅\n",
    "- 애플리케이션의 UI는 여러 레벨 깊이로 중첩된 컴포넌트로 구성되기도 함\n",
    "- 이 경우 URL을 중첩된 컴포넌트의 구조에 따라 변경되도록 이 관계를 표현할 수 있음\n",
    "\n",
    "# Programmatic Navigation\n",
    "> RouterLink 대신 JavaScript를 사용해 페이지를 이동하는 것\n",
    "\n",
    "# Navigation Guard\n",
    "- vue router를 통해 특정 URL에 접근할 때 다른 URL로 redirect를 하거나 취소하여 내비게이션을 보호\n",
    "\n",
    "## Navigation Guard 종류\n",
    "1. Globally (전역가드)\n",
    "    - 애플리케이션 전역에서 모든 라우트 전환에 적용되는 가드\n",
    "    - 작성위치: index.js\n",
    "2. Per-route(라우트 가드)\n",
    "    - 특정 라우트에만 적용되는 가드\n",
    "    - 작성위치 : index.js의 각 routes\n",
    "3. In-component(컴포넌트 가드)\n",
    "    - 특정 컴포넌트 내에서만 적용되는 가드\n",
    "    - 작성위치: 각 컴포넌트의 script 내부\n",
    "\n"
   ]
  }
 ],
 "metadata": {
  "language_info": {
   "name": "python"
  }
 },
 "nbformat": 4,
 "nbformat_minor": 2
}
